{
 "metadata": {
  "name": "",
  "signature": "sha256:95c4152429f42f4b94a4e0a26724f6d716d8c5a3a02c1b67032f0a471576e213"
 },
 "nbformat": 3,
 "nbformat_minor": 0,
 "worksheets": [
  {
   "cells": [
    {
     "cell_type": "code",
     "collapsed": false,
     "input": [
      "from __future__ import division"
     ],
     "language": "python",
     "metadata": {},
     "outputs": [],
     "prompt_number": 1
    },
    {
     "cell_type": "code",
     "collapsed": false,
     "input": [
      "%matplotlib inline\n",
      "import numpy as np\n",
      "import matplotlib.pyplot as plt"
     ],
     "language": "python",
     "metadata": {},
     "outputs": [],
     "prompt_number": 2
    },
    {
     "cell_type": "code",
     "collapsed": false,
     "input": [
      "from sympy import symbols, solve, Eq, init_printing"
     ],
     "language": "python",
     "metadata": {},
     "outputs": [],
     "prompt_number": 3
    },
    {
     "cell_type": "code",
     "collapsed": false,
     "input": [
      "init_printing(order='old')"
     ],
     "language": "python",
     "metadata": {},
     "outputs": [],
     "prompt_number": 4
    },
    {
     "cell_type": "markdown",
     "metadata": {},
     "source": [
      "The Bonferroni correction uses simple probability calculations to estimate the probability of finding *any* p value below a threshold $t$, given a set (family) of $n$ p values."
     ]
    },
    {
     "cell_type": "code",
     "collapsed": false,
     "input": [
      "t, n = symbols('t, n')"
     ],
     "language": "python",
     "metadata": {},
     "outputs": [],
     "prompt_number": 5
    },
    {
     "cell_type": "markdown",
     "metadata": {},
     "source": [
      "The probability that all $n$ tests are *above* p value threshold $t$, assuming tests are independent:"
     ]
    },
    {
     "cell_type": "code",
     "collapsed": false,
     "input": [
      "all_neg = (1 - t) ** n"
     ],
     "language": "python",
     "metadata": {},
     "outputs": [],
     "prompt_number": 6
    },
    {
     "cell_type": "markdown",
     "metadata": {},
     "source": [
      "Chance that one or more p values are $\\le t$:"
     ]
    },
    {
     "cell_type": "code",
     "collapsed": false,
     "input": [
      "one_pos = 1 - all_neg\n",
      "one_pos"
     ],
     "language": "python",
     "metadata": {},
     "outputs": [
      {
       "latex": [
        "$$1 - \\left(1 - t\\right)^{n}$$"
       ],
       "metadata": {},
       "output_type": "pyout",
       "png": "[encoded data removed]",
       "prompt_number": 7,
       "text": [
        "           n\n",
        "1 - (1 - t) "
       ]
      }
     ],
     "prompt_number": 7
    },
    {
     "cell_type": "markdown",
     "metadata": {},
     "source": [
      "We want a uncorrected p value threshold $t$ such that the expression above equals some desired family-wise error (FWE) rate $\\alpha_{fwe}$.  For example we might want a p value threshold $t$ such that there is probability ($\\alpha_{fwe}$) of 0.05 that there is one or more test with $p \\le t$ in a family of $n$ tests, on the null hypothesis."
     ]
    },
    {
     "cell_type": "code",
     "collapsed": false,
     "input": [
      "a_fwe = symbols(r'\\alpha_{fwe}')\n",
      "a_fwe_from_t = Eq(a_fwe, one_pos)\n",
      "a_fwe_from_t"
     ],
     "language": "python",
     "metadata": {},
     "outputs": [
      {
       "latex": [
        "$$\\alpha_{{fwe}} = 1 - \\left(1 - t\\right)^{n}$$"
       ],
       "metadata": {},
       "output_type": "pyout",
       "png": "[encoded data removed]",
       "prompt_number": 8,
       "text": [
        "                          n\n",
        "\\alpha_{fwe} = 1 - (1 - t) "
       ]
      }
     ],
     "prompt_number": 8
    },
    {
     "cell_type": "markdown",
     "metadata": {},
     "source": [
      "Solve for $t$:"
     ]
    },
    {
     "cell_type": "code",
     "collapsed": false,
     "input": [
      "t_from_a_fwe = solve(a_fwe_from_t, t)[0]\n",
      "t_from_a_fwe"
     ],
     "language": "python",
     "metadata": {},
     "outputs": [
      {
       "latex": [
        "$$1 - \\left(1 - \\alpha_{{fwe}}\\right)^{\\frac{1}{n}}$$"
       ],
       "metadata": {},
       "output_type": "pyout",
       "png": "[encoded data removed]",
       "prompt_number": 9,
       "text": [
        "    n __________________\n",
        "1 - \u2572\u2571 1 - \\alpha_{fwe} "
       ]
      }
     ],
     "prompt_number": 9
    },
    {
     "cell_type": "markdown",
     "metadata": {},
     "source": [
      "The Bonferroni correction uses $t = \\alpha_{fwe} \\space / \\space n$ as an approximation to this more exact formula.  $\\alpha_{fwe} \\space / \\space n$ is always less than the exact formula, but it is close: "
     ]
    },
    {
     "cell_type": "code",
     "collapsed": false,
     "input": [
      "exact_thresh = lambda a, n: 1 - (1 - a) ** (1 / n) # The formula above\n",
      "bonferroni_thresh = lambda a, n: a / n # the Bonferroni approximation"
     ],
     "language": "python",
     "metadata": {},
     "outputs": [],
     "prompt_number": 10
    },
    {
     "cell_type": "code",
     "collapsed": false,
     "input": [
      "n_tests = np.arange(1, 11)\n",
      "# The exact threshold for independent p values\n",
      "exact_thresh(0.05, n_tests)"
     ],
     "language": "python",
     "metadata": {},
     "outputs": [
      {
       "metadata": {},
       "output_type": "pyout",
       "prompt_number": 11,
       "text": [
        "array([ 0.05      ,  0.02532057,  0.01695243,  0.01274146,  0.01020622,\n",
        "        0.00851244,  0.00730083,  0.00639115,  0.00568304,  0.0051162 ])"
       ]
      }
     ],
     "prompt_number": 11
    },
    {
     "cell_type": "code",
     "collapsed": false,
     "input": [
      "bonferroni_thresh(0.05, n_tests)"
     ],
     "language": "python",
     "metadata": {},
     "outputs": [
      {
       "metadata": {},
       "output_type": "pyout",
       "prompt_number": 12,
       "text": [
        "array([ 0.05      ,  0.025     ,  0.01666667,  0.0125    ,  0.01      ,\n",
        "        0.00833333,  0.00714286,  0.00625   ,  0.00555556,  0.005     ])"
       ]
      }
     ],
     "prompt_number": 12
    }
   ],
   "metadata": {}
  }
 ]
}