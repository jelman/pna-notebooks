{
 "metadata": {
  "name": "",
  "signature": "sha256:e76750374633dfbb0162c78f298f00e612e3dba882fa0665974d046aac3db697"
 },
 "nbformat": 3,
 "nbformat_minor": 0,
 "worksheets": [
  {
   "cells": [
    {
     "cell_type": "code",
     "collapsed": false,
     "input": [
      "import numpy as np\n",
      "import sklearn as skl\n",
      "import scipy.linalg as lin\n",
      "# % run ../utils/stats\n",
      "from __future__ import print_function\n",
      "import matplotlib.pylab as plt"
     ],
     "language": "python",
     "metadata": {},
     "outputs": [],
     "prompt_number": 1,
     "trusted": true
    },
    {
     "cell_type": "heading",
     "level": 2,
     "metadata": {},
     "source": [
      "The problem\n"
     ]
    },
    {
     "cell_type": "heading",
     "level": 3,
     "metadata": {},
     "source": [
      "Some utility functions"
     ]
    },
    {
     "cell_type": "code",
     "collapsed": false,
     "input": [
      "# construct data with a certain covariance matrix\n",
      "\n",
      "def cov2corr(C):\n",
      "    \"\"\"\n",
      "    no check that it is symetric positive\n",
      "    \"\"\"\n",
      "    C = np.asarray(C)\n",
      "    D = 1./np.sqrt(np.diag(C))\n",
      "    C = C*D[np.newaxis]\n",
      "    C = (C.T*D[np.newaxis])\n",
      "    return C \n",
      "\n",
      "\n",
      "def frob_norm(C, scaling=True):\n",
      "    \"\"\"\n",
      "    \"\"\"\n",
      "    return (C**2).sum()/np.min(np.asarray(C.shape))\n",
      "\n",
      "def Cex_vs_Cth(N,T,compare='max'):\n",
      "    \"\"\"\n",
      "    \"\"\"\n",
      "    x = np.random.normal(0,1,size=(N,T))\n",
      "    A = np.random.normal(0,1,size=(N,N))\n",
      "    y = A.dot(x)\n",
      "    Cexp = np.cov(y)\n",
      "    Ctheo = A.dot(A.T)\n",
      "    # np.max(np.abs(Cexp-Ctheo)))\n",
      "    if compare=='max':\n",
      "        return(np.mean(np.abs(cov2corr(Cexp)-cov2corr(Ctheo))))\n",
      "\n",
      "# check \n",
      "C = [[1.0, 1.0,  8.1],\n",
      "     [1.0, 16.0, 18.0],\n",
      "     [8.1, 18.0, 81.0]];\n",
      "\n",
      "np.set_printoptions(precision=3)\n",
      "print(cov2corr(C))\n"
     ],
     "language": "python",
     "metadata": {},
     "outputs": [
      {
       "output_type": "stream",
       "stream": "stdout",
       "text": [
        "[[ 1.    0.25  0.9 ]\n",
        " [ 0.25  1.    0.5 ]\n",
        " [ 0.9   0.5   1.  ]]\n"
       ]
      }
     ],
     "prompt_number": 2,
     "trusted": true
    },
    {
     "cell_type": "heading",
     "level": 2,
     "metadata": {},
     "source": [
      "Two cases: we can estimate a non degenerate covariance - or we cannot"
     ]
    },
    {
     "cell_type": "code",
     "collapsed": false,
     "input": [
      "N = 10\n",
      "T = 20\n",
      "x = np.random.normal(0,1,size=(N,T))\n",
      "A = np.random.normal(0,1,size=(N,N))\n",
      "y = A.dot(x)\n",
      "Cexp = np.cov(y)\n",
      "print(\"np.linalg.matrix_rank(Cexp) {}\".format(np.linalg.matrix_rank(Cexp)))\n",
      "Ctheo = A.dot(A.T)\n",
      "print(np.max(np.abs(Cexp-Ctheo)))\n",
      "print(np.max(np.abs(cov2corr(Cexp)-cov2corr(Ctheo))))\n",
      "print(frob_norm(cov2corr(Cexp)-cov2corr(Ctheo)))\n"
     ],
     "language": "python",
     "metadata": {},
     "outputs": [
      {
       "output_type": "stream",
       "stream": "stdout",
       "text": [
        "np.linalg.matrix_rank(Cexp) 10\n",
        "13.2246758554\n",
        "0.898727861278\n",
        "0.765403527287\n"
       ]
      }
     ],
     "prompt_number": 3,
     "trusted": true
    },
    {
     "cell_type": "code",
     "collapsed": false,
     "input": [],
     "language": "python",
     "metadata": {},
     "outputs": [],
     "prompt_number": 3,
     "trusted": true
    },
    {
     "cell_type": "code",
     "collapsed": false,
     "input": [
      "N = 20\n",
      "T = np.arange(10,500,10)\n",
      "Rep = 1\n",
      "res = [ np.mean(np.asarray([Cex_vs_Cth(N,t) for i in range(Rep)])) \n",
      "                                                   for t in T]\n",
      "line = plt.plot(res)"
     ],
     "language": "python",
     "metadata": {},
     "outputs": [],
     "prompt_number": 4,
     "trusted": true
    },
    {
     "cell_type": "code",
     "collapsed": false,
     "input": [],
     "language": "python",
     "metadata": {},
     "outputs": [],
     "prompt_number": 4,
     "trusted": true
    },
    {
     "cell_type": "heading",
     "level": 2,
     "metadata": {},
     "source": [
      "An (explicit) graphical model example"
     ]
    },
    {
     "cell_type": "code",
     "collapsed": false,
     "input": [
      "# let's make a small number of nodes gaussians, depending on each others\n",
      "N = 7\n",
      "A = np.zeros((N,N))\n",
      "A[0,:] = [1., .8, .3, 0, 0 ,0, 0] \n",
      "A[1,:] = [0, 1., .75, -.3, 0, 0 ,0] \n",
      "A[2,:] = [0, 0., 1., -.3, .4, 0 ,0] \n",
      "A[3,:] = [0, 0, 0, 2, .6, .4, 0] \n",
      "A[4,:] = [0, 0, 0, 0, 1.5, -.2, 0] \n",
      "A[5,:] = [0, 0, 0, 0, .2, 1.2, -.2] \n",
      "A[6,:] = [0, 0, 0, 0, 0, .2, .5] "
     ],
     "language": "python",
     "metadata": {},
     "outputs": [],
     "prompt_number": 5,
     "trusted": true
    },
    {
     "cell_type": "code",
     "collapsed": false,
     "input": [
      "T = 10\n",
      "N = A.shape[0]\n",
      "x = np.random.normal(0,1,size=(N,T))\n",
      "y = A.dot(x)\n",
      "print(y.shape)\n",
      "np.set_printoptions(precision=2)\n",
      "\n",
      "print(\"theoretical corr:\\n\",cov2corr((A.dot(A.T))))\n",
      "print(\"experimental corr:\\n\",np.corrcoef(y),\"\\n\")\n",
      "print(\"theoretical cov:\\n\",((A.dot(A.T))))\n",
      "print(\"experimental cov:\\n\",np.cov(y))\n"
     ],
     "language": "python",
     "metadata": {},
     "outputs": [
      {
       "output_type": "stream",
       "stream": "stdout",
       "text": [
        "(7, 10)\n",
        "theoretical corr:\n",
        " [[ 1.    0.61  0.2   0.    0.    0.    0.  ]\n",
        " [ 0.61  1.    0.58 -0.22  0.    0.    0.  ]\n",
        " [ 0.2   0.58  1.   -0.15  0.35  0.06  0.  ]\n",
        " [ 0.   -0.22 -0.15  1.    0.25  0.23  0.07]\n",
        " [ 0.    0.    0.35  0.25  1.    0.03 -0.05]\n",
        " [ 0.    0.    0.06  0.23  0.03  1.    0.21]\n",
        " [ 0.    0.    0.    0.07 -0.05  0.21  1.  ]]\n",
        "experimental corr:\n",
        " [[ 1.    0.36  0.02  0.3   0.25 -0.16 -0.13]\n",
        " [ 0.36  1.    0.59  0.08 -0.03 -0.23  0.03]\n",
        " [ 0.02  0.59  1.   -0.22  0.19 -0.44 -0.03]\n",
        " [ 0.3   0.08 -0.22  1.    0.31  0.46  0.23]\n",
        " [ 0.25 -0.03  0.19  0.31  1.   -0.34 -0.21]\n",
        " [-0.16 -0.23 -0.44  0.46 -0.34  1.    0.62]\n",
        " [-0.13  0.03 -0.03  0.23 -0.21  0.62  1.  ]] \n",
        "\n",
        "theoretical cov:\n",
        " [[ 1.73  1.02  0.3   0.    0.    0.    0.  ]\n",
        " [ 1.02  1.65  0.84 -0.6   0.    0.    0.  ]\n",
        " [ 0.3   0.84  1.25 -0.36  0.6   0.08  0.  ]\n",
        " [ 0.   -0.6  -0.36  4.52  0.82  0.6   0.08]\n",
        " [ 0.    0.    0.6   0.82  2.29  0.06 -0.04]\n",
        " [ 0.    0.    0.08  0.6   0.06  1.52  0.14]\n",
        " [ 0.    0.    0.    0.08 -0.04  0.14  0.29]]\n",
        "experimental cov:\n",
        " [[ 1.6   0.68  0.03  1.08  0.36 -0.26 -0.07]\n",
        " [ 0.68  2.19  1.05  0.34 -0.05 -0.45  0.02]\n",
        " [ 0.03  1.05  1.43 -0.77  0.26 -0.69 -0.01]\n",
        " [ 1.08  0.34 -0.77  8.23  1.01  1.71  0.26]\n",
        " [ 0.36 -0.05  0.26  1.01  1.27 -0.5  -0.09]\n",
        " [-0.26 -0.45 -0.69  1.71 -0.5   1.7   0.32]\n",
        " [-0.07  0.02 -0.01  0.26 -0.09  0.32  0.15]]\n"
       ]
      }
     ],
     "prompt_number": 6,
     "trusted": true
    },
    {
     "cell_type": "markdown",
     "metadata": {},
     "source": [
      "Conclusion: estimation can be real bad with a small number of points.\n",
      "See how bad it gets if you have less data than regions"
     ]
    },
    {
     "cell_type": "heading",
     "level": 3,
     "metadata": {},
     "source": [
      "Graph Lasso Estimation"
     ]
    },
    {
     "cell_type": "code",
     "collapsed": false,
     "input": [
      "from sklearn.covariance import GraphLassoCV, GraphLasso, LedoitWolf"
     ],
     "language": "python",
     "metadata": {},
     "outputs": [],
     "prompt_number": 7,
     "trusted": true
    },
    {
     "cell_type": "markdown",
     "metadata": {},
     "source": [
      "####Scikit-learn : cite:\n",
      "\n",
      "Pedregosa, Fabian, Ga\u00ebl Varoquaux, Alexandre Gramfort, Vincent Michel, Bertrand Thirion, Olivier Grisel, Mathieu Blondel, Peter Prettenhofer, Ron Weiss, and Vincent Dubourg. \u201cScikit-Learn: Machine Learning in Python.\u201d The Journal of Machine Learning Research 12 (2011): 2825\u201330."
     ]
    },
    {
     "cell_type": "code",
     "collapsed": false,
     "input": [
      "GL = GraphLassoCV(alphas=10, mode='cd')\n",
      "GL.fit(y.T)"
     ],
     "language": "python",
     "metadata": {},
     "outputs": [
      {
       "metadata": {},
       "output_type": "pyout",
       "prompt_number": 8,
       "text": [
        "GraphLassoCV(alphas=10, assume_centered=False, cv=None, max_iter=100,\n",
        "       mode='cd', n_jobs=1, n_refinements=4, tol=0.0001, verbose=False)"
       ]
      }
     ],
     "prompt_number": 8,
     "trusted": true
    },
    {
     "cell_type": "code",
     "collapsed": false,
     "input": [
      "C_GL = GL.covariance_\n",
      "Prec_GL = GL.precision_"
     ],
     "language": "python",
     "metadata": {},
     "outputs": [],
     "prompt_number": 9,
     "trusted": true
    },
    {
     "cell_type": "heading",
     "level": 4,
     "metadata": {},
     "source": [
      "Compare correlations"
     ]
    },
    {
     "cell_type": "code",
     "collapsed": false,
     "input": [
      "np.set_printoptions(precision=3)\n",
      "Ctheo = A.dot(A.T)\n",
      "print(\"theoretical corr:\\n\",cov2corr(Ctheo))\n",
      "print(\"experimental corr:\\n\",np.corrcoef(y))\n",
      "print(\"GL corr:\\n\",cov2corr(C_GL))\n",
      "print(\" corr_theo - corr_exp : {:2.3f}\".format(frob_norm(cov2corr(Ctheo)-np.corrcoef(y))))\n",
      "print(\" corr_theo - corr_GL : {:2.3f}\".format(frob_norm(cov2corr(Ctheo)-cov2corr(C_GL))))\n"
     ],
     "language": "python",
     "metadata": {},
     "outputs": [
      {
       "output_type": "stream",
       "stream": "stdout",
       "text": [
        "theoretical corr:\n",
        " [[ 1.     0.606  0.204  0.     0.     0.     0.   ]\n",
        " [ 0.606  1.     0.584 -0.22   0.     0.     0.   ]\n",
        " [ 0.204  0.584  1.    -0.151  0.355  0.058  0.   ]\n",
        " [ 0.    -0.22  -0.151  1.     0.255  0.229  0.07 ]\n",
        " [ 0.     0.     0.355  0.255  1.     0.032 -0.049]\n",
        " [ 0.     0.     0.058  0.229  0.032  1.     0.211]\n",
        " [ 0.     0.     0.     0.07  -0.049  0.211  1.   ]]\n",
        "experimental corr:\n",
        " [[ 1.     0.362  0.017  0.297  0.255 -0.155 -0.132]\n",
        " [ 0.362  1.     0.594  0.08  -0.032 -0.233  0.032]\n",
        " [ 0.017  0.594  1.    -0.224  0.191 -0.444 -0.028]\n",
        " [ 0.297  0.08  -0.224  1.     0.311  0.458  0.226]\n",
        " [ 0.255 -0.032  0.191  0.311  1.    -0.338 -0.208]\n",
        " [-0.155 -0.233 -0.444  0.458 -0.338  1.     0.625]\n",
        " [-0.132  0.032 -0.028  0.226 -0.208  0.625  1.   ]]\n",
        "GL corr:\n",
        " [[ 1.  0.  0.  0.  0.  0.  0.]\n",
        " [ 0.  1.  0.  0.  0.  0.  0.]\n",
        " [ 0.  0.  1.  0.  0.  0.  0.]\n",
        " [ 0.  0.  0.  1.  0.  0.  0.]\n",
        " [ 0.  0.  0.  0.  1.  0.  0.]\n",
        " [ 0.  0.  0.  0.  0.  1.  0.]\n",
        " [ 0.  0.  0.  0.  0.  0.  1.]]\n",
        " corr_theo - corr_exp : 0.324\n",
        " corr_theo - corr_GL : 0.320\n"
       ]
      }
     ],
     "prompt_number": 10,
     "trusted": true
    },
    {
     "cell_type": "heading",
     "level": 4,
     "metadata": {},
     "source": [
      "Compare Covariances"
     ]
    },
    {
     "cell_type": "code",
     "collapsed": false,
     "input": [
      "print(\"theoretical cov:\\n\",Ctheo)\n",
      "print(\"experimental cov:\\n\",np.cov(y))\n",
      "print(\"GL cov:\\n\",C_GL)\n",
      "print(\" Ctheo - Cexp : {:2.3f}\".format(frob_norm(Ctheo-np.cov(y))))\n",
      "print(\" Ctheo - C_GL : {:2.3f}\".format(frob_norm(Ctheo-C_GL)))"
     ],
     "language": "python",
     "metadata": {},
     "outputs": [
      {
       "output_type": "stream",
       "stream": "stdout",
       "text": [
        "theoretical cov:\n",
        " [[ 1.73   1.025  0.3    0.     0.     0.     0.   ]\n",
        " [ 1.025  1.653  0.84  -0.6    0.     0.     0.   ]\n",
        " [ 0.3    0.84   1.25  -0.36   0.6    0.08   0.   ]\n",
        " [ 0.    -0.6   -0.36   4.52   0.82   0.6    0.08 ]\n",
        " [ 0.     0.     0.6    0.82   2.29   0.06  -0.04 ]\n",
        " [ 0.     0.     0.08   0.6    0.06   1.52   0.14 ]\n",
        " [ 0.     0.     0.     0.08  -0.04   0.14   0.29 ]]\n",
        "experimental cov:\n",
        " [[ 1.603  0.68   0.025  1.078  0.364 -0.256 -0.066]\n",
        " [ 0.68   2.194  1.054  0.339 -0.053 -0.449  0.018]\n",
        " [ 0.025  1.054  1.435 -0.768  0.259 -0.693 -0.013]\n",
        " [ 1.078  0.339 -0.768  8.226  1.007  1.71   0.255]\n",
        " [ 0.364 -0.053  0.259  1.007  1.274 -0.497 -0.092]\n",
        " [-0.256 -0.449 -0.693  1.71  -0.497  1.698  0.321]\n",
        " [-0.066  0.018 -0.013  0.255 -0.092  0.321  0.155]]\n",
        "GL cov:\n",
        " [[ 1.443  0.     0.     0.     0.     0.     0.   ]\n",
        " [ 0.     1.975  0.     0.     0.     0.     0.   ]\n",
        " [ 0.     0.     1.291  0.     0.     0.     0.   ]\n",
        " [ 0.     0.     0.     7.403  0.     0.     0.   ]\n",
        " [ 0.     0.     0.     0.     1.147  0.     0.   ]\n",
        " [ 0.     0.     0.     0.     0.     1.528  0.   ]\n",
        " [ 0.     0.     0.     0.     0.     0.     0.139]]\n",
        " Ctheo - Cexp : 3.655\n",
        " Ctheo - C_GL : 2.480\n"
       ]
      }
     ],
     "prompt_number": 11,
     "trusted": true
    },
    {
     "cell_type": "heading",
     "level": 3,
     "metadata": {},
     "source": [
      "Ledoit-Wolf estimator"
     ]
    },
    {
     "cell_type": "markdown",
     "metadata": {},
     "source": [
      "(1 - shrinkage)*cov\n",
      "        + shrinkage*mu*np.identity(n_features)\n",
      "\n",
      "with \n",
      "\n",
      "* mu from \n",
      "     mu = trace(cov) / n_features\n",
      "* shrinkage from\n",
      "    \u201cA Well-Conditioned Estimator for Large-Dimensional Covariance Matrices\u201d, Ledoit and Wolf, Journal of Multivariate Analysis, Volume 88, Issue 2, February 2004, pages 365-411."
     ]
    },
    {
     "cell_type": "code",
     "collapsed": false,
     "input": [
      "LW = LedoitWolf(store_precision=True, assume_centered=False, block_size=1000)\n",
      "LW.fit(y.T)"
     ],
     "language": "python",
     "metadata": {},
     "outputs": [
      {
       "metadata": {},
       "output_type": "pyout",
       "prompt_number": 12,
       "text": [
        "LedoitWolf(assume_centered=False, block_size=1000, store_precision=True)"
       ]
      }
     ],
     "prompt_number": 12,
     "trusted": true
    },
    {
     "cell_type": "code",
     "collapsed": false,
     "input": [
      "C_LW = LW.covariance_"
     ],
     "language": "python",
     "metadata": {},
     "outputs": [],
     "prompt_number": 13,
     "trusted": true
    },
    {
     "cell_type": "code",
     "collapsed": false,
     "input": [
      "print(\"theoretical cov:\\n\",Ctheo)\n",
      "print(\"experimental cov:\\n\",np.cov(y))\n",
      "print(\"LW cov:\\n\",C_LW)\n",
      "print(\" Ctheo - Cexp : {:2.3f}\".format(frob_norm(Ctheo-np.cov(y))))\n",
      "print(\" Ctheo - C_GL : {:2.3f}\".format(frob_norm(Ctheo-C_GL)))\n",
      "print(\" Ctheo - C_LW : {:2.3f}\".format(frob_norm(Ctheo-C_LW)))"
     ],
     "language": "python",
     "metadata": {},
     "outputs": [
      {
       "output_type": "stream",
       "stream": "stdout",
       "text": [
        "theoretical cov:\n",
        " [[ 1.73   1.025  0.3    0.     0.     0.     0.   ]\n",
        " [ 1.025  1.653  0.84  -0.6    0.     0.     0.   ]\n",
        " [ 0.3    0.84   1.25  -0.36   0.6    0.08   0.   ]\n",
        " [ 0.    -0.6   -0.36   4.52   0.82   0.6    0.08 ]\n",
        " [ 0.     0.     0.6    0.82   2.29   0.06  -0.04 ]\n",
        " [ 0.     0.     0.08   0.6    0.06   1.52   0.14 ]\n",
        " [ 0.     0.     0.     0.08  -0.04   0.14   0.29 ]]\n",
        "experimental cov:\n",
        " [[ 1.603  0.68   0.025  1.078  0.364 -0.256 -0.066]\n",
        " [ 0.68   2.194  1.054  0.339 -0.053 -0.449  0.018]\n",
        " [ 0.025  1.054  1.435 -0.768  0.259 -0.693 -0.013]\n",
        " [ 1.078  0.339 -0.768  8.226  1.007  1.71   0.255]\n",
        " [ 0.364 -0.053  0.259  1.007  1.274 -0.497 -0.092]\n",
        " [-0.256 -0.449 -0.693  1.71  -0.497  1.698  0.321]\n",
        " [-0.066  0.018 -0.013  0.255 -0.092  0.321  0.155]]\n",
        "LW cov:\n",
        " [[ 1.752  0.337  0.013  0.535  0.181 -0.127 -0.033]\n",
        " [ 0.337  2.046  0.523  0.168 -0.026 -0.223  0.009]\n",
        " [ 0.013  0.523  1.668 -0.381  0.128 -0.344 -0.007]\n",
        " [ 0.535  0.168 -0.381  5.04   0.5    0.849  0.127]\n",
        " [ 0.181 -0.026  0.128  0.5    1.589 -0.247 -0.046]\n",
        " [-0.127 -0.223 -0.344  0.849 -0.247  1.799  0.159]\n",
        " [-0.033  0.009 -0.007  0.127 -0.046  0.159  1.033]]\n",
        " Ctheo - Cexp : 3.655\n",
        " Ctheo - C_GL : 2.480\n",
        " Ctheo - C_LW : 0.902\n"
       ]
      }
     ],
     "prompt_number": 14,
     "trusted": true
    },
    {
     "cell_type": "code",
     "collapsed": false,
     "input": [],
     "language": "python",
     "metadata": {},
     "outputs": [],
     "prompt_number": 14,
     "trusted": true
    },
    {
     "cell_type": "markdown",
     "metadata": {},
     "source": []
    },
    {
     "cell_type": "heading",
     "level": 2,
     "metadata": {},
     "source": [
      "Trying out other things : not relevant today"
     ]
    },
    {
     "cell_type": "heading",
     "level": 4,
     "metadata": {},
     "source": [
      "Simulate a sparse precision matrix.  Conclusion: if N>=50, it becomes hard to fin tril matrices that are not rank deficient"
     ]
    },
    {
     "cell_type": "code",
     "collapsed": false,
     "input": [
      "def iround(x):\n",
      "    \"\"\"iround(number) -> integer\n",
      "    Round a number to the nearest integer.\"\"\"\n",
      "    y = round(x) - .5\n",
      "    return int(y) + (y > 0)\n"
     ],
     "language": "python",
     "metadata": {},
     "outputs": [],
     "prompt_number": 15,
     "trusted": true
    },
    {
     "cell_type": "code",
     "collapsed": false,
     "input": [
      "# create a covariance matrix of N nodes with T time values (repetitions) and sparsity of \n",
      "# precision matrix is L% \n",
      "\n",
      "\n",
      "def sim_sqrtP(N, L):\n",
      "    \"\"\"\n",
      "    L : put L% zeros in the sqrtP matrix\n",
      "    \"\"\"\n",
      "    \n",
      "    def arr_entries(n,norm_nbentries=N):\n",
      "        return np.abs(np.random.randn(n))*norm_nbentries\n",
      "    \n",
      "    # define the inverse square root matrix\n",
      "    # strict lower\n",
      "\n",
      "    Z = np.zeros((N-1,N-1))\n",
      "    tri_indices = np.tril_indices_from(Z)\n",
      "    P = np.zeros((N,N))\n",
      "\n",
      "    n_tri = tri_indices[0].shape[0]\n",
      "    try:\n",
      "        assert int((N)*(N-1)/2) == n_tri\n",
      "    except:\n",
      "        print(\"Aie : {} differ from {}\".format(int((N)*(N-1)/2), n_tri))\n",
      "            \n",
      "    n_zeros = iround(n_tri*L)\n",
      "    z = arr_entries(n_tri)\n",
      "    z[:n_zeros] = 0\n",
      "    z = np.random.permutation(z)\n",
      "    \n",
      "    P[(tri_indices[0]+1, tri_indices[1])] = z\n",
      "    # fill the diagonal\n",
      "    P[(np.arange(N),np.arange(N))] = arr_entries(N)\n",
      "    \n",
      "    rkP = np.linalg.matrix_rank(P)\n",
      "    if rkP < N:\n",
      "        print(\"rank deficient {}\".format(rkP))\n",
      "        return None\n",
      "    \n",
      "    return P\n"
     ],
     "language": "python",
     "metadata": {},
     "outputs": [],
     "prompt_number": 16,
     "trusted": true
    },
    {
     "cell_type": "code",
     "collapsed": false,
     "input": [
      "N = 6\n",
      "Z = np.zeros((N,N))\n",
      "sqrtP = sim_sqrtP(7, .5)\n",
      "np.set_printoptions(precision=1)\n",
      "print('{}\\n'.format(sqrtP))\n",
      "Prec = sqrtP.dot(sqrtP.T)\n",
      "print(Prec,\"\\n\")\n",
      "print(lin.inv(Prec))"
     ],
     "language": "python",
     "metadata": {},
     "outputs": [
      {
       "output_type": "stream",
       "stream": "stdout",
       "text": [
        "[[  1.9   0.    0.    0.    0.    0.    0. ]\n",
        " [  0.    9.8   0.    0.    0.    0.    0. ]\n",
        " [  3.6  15.4   6.4   0.    0.    0.    0. ]\n",
        " [  0.    1.6   0.    5.    0.    0.    0. ]\n",
        " [  0.    9.4   8.3  12.2   2.6   0.    0. ]\n",
        " [  0.    0.    2.5   0.    0.    5.5   0. ]\n",
        " [ 16.7   0.    2.6   2.    0.    0.    7.7]]\n",
        "\n",
        "[[   3.8    0.     7.     0.     0.     0.    32.5]\n",
        " [   0.    95.6  150.2   15.5   91.9    0.     0. ]\n",
        " [   7.   150.2  289.2   24.3  196.9   16.1   76.2]\n",
        " [   0.    15.5   24.3   27.3   75.5    0.    10. ]\n",
        " [   0.    91.9  196.9   75.5  311.2   20.9   45.5]\n",
        " [   0.     0.    16.1    0.    20.9   36.5    6.5]\n",
        " [  32.5    0.    76.2   10.    45.5    6.5  347.9]] \n",
        "\n",
        "[[  2.3e+00   5.3e-01  -4.7e-01  -8.3e-01   3.6e-01   2.4e-02  -1.3e-01]\n",
        " [  5.3e-01   4.2e-01  -3.4e-01  -5.6e-01   2.2e-01   2.1e-02   1.2e-02]\n",
        " [ -4.7e-01  -3.4e-01   2.9e-01   4.8e-01  -2.0e-01  -1.3e-02  -6.8e-03]\n",
        " [ -8.3e-01  -5.6e-01   4.8e-01   9.4e-01  -3.7e-01  -1.0e-16  -6.8e-03]\n",
        " [  3.6e-01   2.2e-01  -2.0e-01  -3.7e-01   1.5e-01   4.0e-17   2.8e-17]\n",
        " [  2.4e-02   2.1e-02  -1.3e-02   4.3e-17  -1.9e-17   3.3e-02  -4.3e-19]\n",
        " [ -1.3e-01   1.2e-02  -6.8e-03  -6.8e-03  -4.5e-17  -1.9e-18   1.7e-02]]\n"
       ]
      }
     ],
     "prompt_number": 17,
     "trusted": true
    },
    {
     "cell_type": "code",
     "collapsed": false,
     "input": [
      "N = 100\n",
      "M = np.tril(np.abs(np.random.randn(N,N)))\n",
      "np.linalg.matrix_rank(M)\n",
      "(u, s, vt) = lin.svd(M, full_matrices=False)\n",
      "plt.plot(s[N-5:])"
     ],
     "language": "python",
     "metadata": {},
     "outputs": [
      {
       "metadata": {},
       "output_type": "pyout",
       "prompt_number": 18,
       "text": [
        "[<matplotlib.lines.Line2D at 0x3ff6c10>]"
       ]
      }
     ],
     "prompt_number": 18,
     "trusted": true
    },
    {
     "cell_type": "code",
     "collapsed": false,
     "input": [
      "\n",
      "print(s[N-5:])\n",
      "plt.plot(u[1:15,N-1])"
     ],
     "language": "python",
     "metadata": {},
     "outputs": [
      {
       "output_type": "stream",
       "stream": "stdout",
       "text": [
        "[  5.9e-04   2.6e-05   2.8e-07   8.7e-11   3.7e-15]\n"
       ]
      },
      {
       "metadata": {},
       "output_type": "pyout",
       "prompt_number": 19,
       "text": [
        "[<matplotlib.lines.Line2D at 0x3ff6690>]"
       ]
      }
     ],
     "prompt_number": 19,
     "trusted": true
    },
    {
     "cell_type": "code",
     "collapsed": false,
     "input": [
      "nulld = u[:,-1]\n",
      "print(nulld[:10])\n",
      "print(M.T.dot(nulld).T)"
     ],
     "language": "python",
     "metadata": {},
     "outputs": [
      {
       "output_type": "stream",
       "stream": "stdout",
       "text": [
        "[  9.8e-01  -2.0e-01  -1.7e-05   3.9e-02  -3.0e-02   6.8e-03  -5.8e-05\n",
        "   3.8e-04  -1.4e-03   7.5e-04]\n",
        "[  5.3e-15  -1.2e-15   4.4e-15  -1.4e-15   4.7e-16  -2.3e-15  -1.1e-15\n",
        "  -2.5e-15  -1.7e-16  -1.1e-15   1.4e-16   3.4e-16  -1.5e-15   4.0e-16\n",
        "   2.2e-15   7.7e-16  -1.2e-16  -7.9e-16   1.9e-15   9.8e-16   4.0e-16\n",
        "  -3.4e-16  -3.9e-15  -1.4e-16  -1.6e-15   4.2e-17   2.9e-16  -2.7e-15\n",
        "  -7.0e-16  -1.7e-15  -2.2e-15  -2.7e-16   8.1e-16   1.1e-15  -8.9e-16\n",
        "  -9.7e-17   2.2e-15   7.2e-16  -1.8e-15  -1.8e-16  -1.9e-15   1.7e-16\n",
        "  -1.4e-16   6.1e-16   3.2e-16   8.6e-16  -1.0e-15  -1.2e-15  -2.9e-16\n",
        "  -2.2e-16  -4.8e-16  -1.4e-15  -9.3e-16   1.2e-16   1.2e-15   9.2e-17\n",
        "   1.6e-16   9.4e-16  -9.8e-16  -5.1e-16  -4.8e-16   1.3e-15  -2.9e-16\n",
        "  -6.0e-16  -5.4e-16  -5.8e-17  -1.0e-15   4.0e-16  -2.1e-16  -3.9e-16\n",
        "   4.2e-16   4.7e-16   3.9e-16  -3.6e-16   6.6e-16   5.5e-16   1.1e-16\n",
        "   7.6e-16   4.6e-16   2.0e-16   7.0e-16   4.0e-16   4.6e-16  -1.7e-17\n",
        "  -1.7e-16  -1.0e-16  -3.1e-16  -1.0e-16  -3.6e-16   4.9e-16  -2.4e-16\n",
        "  -1.7e-16  -9.1e-19  -6.4e-17  -1.0e-16   6.1e-17   1.2e-16  -6.1e-18\n",
        "  -7.6e-17  -9.8e-17]\n"
       ]
      }
     ],
     "prompt_number": 20,
     "trusted": true
    },
    {
     "cell_type": "code",
     "collapsed": false,
     "input": [],
     "language": "python",
     "metadata": {},
     "outputs": [],
     "prompt_number": 20,
     "trusted": true
    },
    {
     "cell_type": "code",
     "collapsed": false,
     "input": [],
     "language": "python",
     "metadata": {},
     "outputs": [],
     "prompt_number": 20,
     "trusted": true
    }
   ],
   "metadata": {}
  }
 ]
}