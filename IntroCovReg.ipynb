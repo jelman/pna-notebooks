{
 "metadata": {
  "name": "",
  "signature": "sha256:1b5b7c557861f3a662dcda50199b10768a0e4f819435325a29e580218dbfc36d"
 },
 "nbformat": 3,
 "nbformat_minor": 0,
 "worksheets": [
  {
   "cells": [
    {
     "cell_type": "code",
     "collapsed": false,
     "input": [
      "import numpy as np\n",
      "import sklearn as skl\n",
      "import scipy.linalg as lin\n",
      "% run ../utils/stats\n",
      "from __future__ import print_function\n",
      "import matplotlib.pylab as plt"
     ],
     "language": "python",
     "metadata": {},
     "outputs": [],
     "prompt_number": 1,
     "trusted": true
    },
    {
     "cell_type": "heading",
     "level": 2,
     "metadata": {},
     "source": [
      "The problem\n"
     ]
    },
    {
     "cell_type": "heading",
     "level": 3,
     "metadata": {},
     "source": []
    },
    {
     "cell_type": "code",
     "collapsed": false,
     "input": [
      "# construct data with a certain covariance matrix\n",
      "\n",
      "def cov2corr(C):\n",
      "    \"\"\"\n",
      "    no check that it is symetric positive\n",
      "    \"\"\"\n",
      "    C = np.asarray(C)\n",
      "    D = 1./np.sqrt(np.diag(C))\n",
      "    C = C*D[np.newaxis]\n",
      "    C = (C.T*D[np.newaxis])\n",
      "    return C \n",
      "\n",
      "\n",
      "def frob_norm(C, scaling=True):\n",
      "    \"\"\"\n",
      "    \"\"\"\n",
      "    return (C**2).sum()/np.min(np.asarray(C.shape))\n",
      "\n",
      "def Cex_vs_Cth(N,T,compare='max'):\n",
      "    \"\"\"\n",
      "    \"\"\"\n",
      "    x = np.random.normal(0,1,size=(N,T))\n",
      "    A = np.random.normal(0,1,size=(N,N))\n",
      "    y = A.dot(x)\n",
      "    Cexp = np.cov(y)\n",
      "    Ctheo = A.dot(A.T)\n",
      "    # np.max(np.abs(Cexp-Ctheo)))\n",
      "    if compare=='max':\n",
      "        return(np.max(np.abs(cov2corr(Cexp)-cov2corr(Ctheo))))\n",
      "\n",
      "# check \n",
      "C = [[1.0, 1.0,  8.1],\n",
      "     [1.0, 16.0, 18.0],\n",
      "     [8.1, 18.0, 81.0]];\n",
      "\n",
      "np.set_printoptions(precision=3)\n",
      "print(cov2corr(C))\n"
     ],
     "language": "python",
     "metadata": {},
     "outputs": [
      {
       "output_type": "stream",
       "stream": "stdout",
       "text": [
        "[[ 1.    0.25  0.9 ]\n",
        " [ 0.25  1.    0.5 ]\n",
        " [ 0.9   0.5   1.  ]]\n"
       ]
      }
     ],
     "prompt_number": 2,
     "trusted": true
    },
    {
     "cell_type": "heading",
     "level": 2,
     "metadata": {},
     "source": [
      "Two cases: we can estimate a non degenerate covariance - or we cannot"
     ]
    },
    {
     "cell_type": "code",
     "collapsed": false,
     "input": [
      "N = 10\n",
      "T = 8\n",
      "x = np.random.normal(0,1,size=(N,T))\n",
      "A = np.random.normal(0,1,size=(N,N))\n",
      "y = A.dot(x)\n",
      "Cexp = np.cov(y)\n",
      "print(\"np.linalg.matrix_rank(Cexp) {}\".format(np.linalg.matrix_rank(Cexp)))\n",
      "Ctheo = A.dot(A.T)\n",
      "print(np.max(np.abs(Cexp-Ctheo)))\n",
      "print(np.max(np.abs(cov2corr(Cexp)-cov2corr(Ctheo))))\n",
      "\n"
     ],
     "language": "python",
     "metadata": {},
     "outputs": [
      {
       "output_type": "stream",
       "stream": "stdout",
       "text": [
        "np.linalg.matrix_rank(Cexp) 7\n",
        "7.04147958745\n",
        "0.718398982604\n"
       ]
      }
     ],
     "prompt_number": 3,
     "trusted": true
    },
    {
     "cell_type": "code",
     "collapsed": false,
     "input": [],
     "language": "python",
     "metadata": {},
     "outputs": [],
     "prompt_number": 3,
     "trusted": true
    },
    {
     "cell_type": "code",
     "collapsed": false,
     "input": [
      "N = 20\n",
      "T = np.arange(10,500,10)\n",
      "Rep = 10\n",
      "res = [ np.mean(np.asarray([Cex_vs_Cth(N,t) for i in range(Rep)])) \n",
      "                                                   for t in T]\n",
      "line = plt.plot(res)"
     ],
     "language": "python",
     "metadata": {},
     "outputs": [
      {
       "metadata": {},
       "output_type": "display_data",
       "png": "[encoded data removed]",
       "text": [
        "<matplotlib.figure.Figure at 0x4ff4d10>"
       ]
      }
     ],
     "prompt_number": 23,
     "trusted": true
    },
    {
     "cell_type": "code",
     "collapsed": false,
     "input": [],
     "language": "python",
     "metadata": {},
     "outputs": [],
     "prompt_number": 4,
     "trusted": true
    },
    {
     "cell_type": "heading",
     "level": 2,
     "metadata": {},
     "source": [
      "An (explicit) graphical model example"
     ]
    },
    {
     "cell_type": "code",
     "collapsed": false,
     "input": [
      "# let's make a small number of nodes gaussians, depending on each others\n",
      "N = 7\n",
      "A = np.zeros((N,N))\n",
      "A[0,:] = [1., .8, .3, 0, 0 ,0, 0] \n",
      "A[1,:] = [0, 1., .75, -.3, 0, 0 ,0] \n",
      "A[2,:] = [0, 0., 1., -.3, .4, 0 ,0] \n",
      "A[3,:] = [0, 0, 0, 2, .6, .4, 0] \n",
      "A[4,:] = [0, 0, 0, 0, 1.5, -.2, 0] \n",
      "A[5,:] = [0, 0, 0, 0, .2, 1.2, -.2] \n",
      "A[6,:] = [0, 0, 0, 0, 0, .2, .5] "
     ],
     "language": "python",
     "metadata": {},
     "outputs": [],
     "prompt_number": 5,
     "trusted": true
    },
    {
     "cell_type": "code",
     "collapsed": false,
     "input": [
      "T = 15\n",
      "N = A.shape[0]\n",
      "x = np.random.normal(0,1,size=(N,T))\n",
      "y = A.dot(x)\n",
      "print(y.shape)\n",
      "np.set_printoptions(precision=2)\n",
      "\n",
      "print(\"theoretical corr:\\n\",cov2corr((A.dot(A.T))))\n",
      "print(\"experimental corr:\\n\",np.corrcoef(y),\"\\n\")\n",
      "print(\"theoretical cov:\\n\",((A.dot(A.T))))\n",
      "print(\"experimental cov:\\n\",np.cov(y))\n"
     ],
     "language": "python",
     "metadata": {},
     "outputs": [
      {
       "output_type": "stream",
       "stream": "stdout",
       "text": [
        "(7, 15)\n",
        "theoretical corr:\n",
        " [[ 1.    0.61  0.2   0.    0.    0.    0.  ]\n",
        " [ 0.61  1.    0.58 -0.22  0.    0.    0.  ]\n",
        " [ 0.2   0.58  1.   -0.15  0.35  0.06  0.  ]\n",
        " [ 0.   -0.22 -0.15  1.    0.25  0.23  0.07]\n",
        " [ 0.    0.    0.35  0.25  1.    0.03 -0.05]\n",
        " [ 0.    0.    0.06  0.23  0.03  1.    0.21]\n",
        " [ 0.    0.    0.    0.07 -0.05  0.21  1.  ]]\n",
        "experimental corr:\n",
        " [[  1.00e+00   8.28e-01   3.51e-01   2.67e-01   2.70e-01  -2.74e-01\n",
        "   -3.37e-01]\n",
        " [  8.28e-01   1.00e+00   5.02e-01   2.11e-01   3.52e-01  -5.46e-03\n",
        "   -1.06e-01]\n",
        " [  3.51e-01   5.02e-01   1.00e+00   8.95e-04   3.82e-01   1.09e-01\n",
        "    2.66e-01]\n",
        " [  2.67e-01   2.11e-01   8.95e-04   1.00e+00   4.65e-01   2.93e-01\n",
        "    2.45e-01]\n",
        " [  2.70e-01   3.52e-01   3.82e-01   4.65e-01   1.00e+00   2.36e-01\n",
        "    2.54e-01]\n",
        " [ -2.74e-01  -5.46e-03   1.09e-01   2.93e-01   2.36e-01   1.00e+00\n",
        "    5.16e-01]\n",
        " [ -3.37e-01  -1.06e-01   2.66e-01   2.45e-01   2.54e-01   5.16e-01\n",
        "    1.00e+00]] \n",
        "\n",
        "theoretical cov:\n",
        " [[ 1.73  1.02  0.3   0.    0.    0.    0.  ]\n",
        " [ 1.02  1.65  0.84 -0.6   0.    0.    0.  ]\n",
        " [ 0.3   0.84  1.25 -0.36  0.6   0.08  0.  ]\n",
        " [ 0.   -0.6  -0.36  4.52  0.82  0.6   0.08]\n",
        " [ 0.    0.    0.6   0.82  2.29  0.06 -0.04]\n",
        " [ 0.    0.    0.08  0.6   0.06  1.52  0.14]\n",
        " [ 0.    0.    0.    0.08 -0.04  0.14  0.29]]\n",
        "experimental cov:\n",
        " [[  1.39e+00   1.09e+00   5.05e-01   5.05e-01   4.87e-01  -3.42e-01\n",
        "   -1.82e-01]\n",
        " [  1.09e+00   1.25e+00   6.83e-01   3.78e-01   6.03e-01  -6.46e-03\n",
        "   -5.41e-02]\n",
        " [  5.05e-01   6.83e-01   1.49e+00   1.75e-03   7.12e-01   1.40e-01\n",
        "    1.49e-01]\n",
        " [  5.05e-01   3.78e-01   1.75e-03   2.57e+00   1.14e+00   4.98e-01\n",
        "    1.80e-01]\n",
        " [  4.87e-01   6.03e-01   7.12e-01   1.14e+00   2.34e+00   3.83e-01\n",
        "    1.78e-01]\n",
        " [ -3.42e-01  -6.46e-03   1.40e-01   4.98e-01   3.83e-01   1.12e+00\n",
        "    2.50e-01]\n",
        " [ -1.82e-01  -5.41e-02   1.49e-01   1.80e-01   1.78e-01   2.50e-01\n",
        "    2.10e-01]]\n"
       ]
      }
     ],
     "prompt_number": 6,
     "trusted": true
    },
    {
     "cell_type": "markdown",
     "metadata": {},
     "source": [
      "Conclusion: estimation can be real bad with a small number of points.\n",
      "See how bad it gets if you have less data than regions"
     ]
    },
    {
     "cell_type": "heading",
     "level": 3,
     "metadata": {},
     "source": [
      "Graph Lasso Estimation"
     ]
    },
    {
     "cell_type": "code",
     "collapsed": false,
     "input": [
      "from sklearn.covariance import GraphLassoCV, GraphLasso, LedoitWolf"
     ],
     "language": "python",
     "metadata": {},
     "outputs": [],
     "prompt_number": 7,
     "trusted": true
    },
    {
     "cell_type": "markdown",
     "metadata": {},
     "source": [
      "####Scikit-learn : cite:\n",
      "\n",
      "Pedregosa, Fabian, Ga\u00ebl Varoquaux, Alexandre Gramfort, Vincent Michel, Bertrand Thirion, Olivier Grisel, Mathieu Blondel, Peter Prettenhofer, Ron Weiss, and Vincent Dubourg. \u201cScikit-Learn: Machine Learning in Python.\u201d The Journal of Machine Learning Research 12 (2011): 2825\u201330."
     ]
    },
    {
     "cell_type": "code",
     "collapsed": false,
     "input": [
      "GL = GraphLassoCV(alphas=10, mode='cd')\n",
      "GL.fit(y.T)"
     ],
     "language": "python",
     "metadata": {},
     "outputs": [
      {
       "metadata": {},
       "output_type": "pyout",
       "prompt_number": 8,
       "text": [
        "GraphLassoCV(alphas=10, assume_centered=False, cv=None, max_iter=100,\n",
        "       mode='cd', n_jobs=1, n_refinements=4, tol=0.0001, verbose=False)"
       ]
      }
     ],
     "prompt_number": 8,
     "trusted": true
    },
    {
     "cell_type": "code",
     "collapsed": false,
     "input": [
      "C_GL = GL.covariance_\n",
      "Prec_GL = GL.precision_"
     ],
     "language": "python",
     "metadata": {},
     "outputs": [],
     "prompt_number": 9,
     "trusted": true
    },
    {
     "cell_type": "heading",
     "level": 4,
     "metadata": {},
     "source": [
      "Compare correlations"
     ]
    },
    {
     "cell_type": "code",
     "collapsed": false,
     "input": [
      "np.set_printoptions(precision=3)\n",
      "Ctheo = A.dot(A.T)\n",
      "print(\"theoretical corr:\\n\",cov2corr(Ctheo))\n",
      "print(\"experimental corr:\\n\",np.corrcoef(y))\n",
      "print(\"GL corr:\\n\",cov2corr(C_GL))\n",
      "print(\" corr_theo - corr_exp : {:2.3f}\".format(frob_norm(cov2corr(Ctheo)-np.corrcoef(y))))\n",
      "print(\" corr_theo - corr_GL : {:2.3f}\".format(frob_norm(cov2corr(Ctheo)-cov2corr(C_GL))))\n"
     ],
     "language": "python",
     "metadata": {},
     "outputs": [
      {
       "output_type": "stream",
       "stream": "stdout",
       "text": [
        "theoretical corr:\n",
        " [[ 1.     0.606  0.204  0.     0.     0.     0.   ]\n",
        " [ 0.606  1.     0.584 -0.22   0.     0.     0.   ]\n",
        " [ 0.204  0.584  1.    -0.151  0.355  0.058  0.   ]\n",
        " [ 0.    -0.22  -0.151  1.     0.255  0.229  0.07 ]\n",
        " [ 0.     0.     0.355  0.255  1.     0.032 -0.049]\n",
        " [ 0.     0.     0.058  0.229  0.032  1.     0.211]\n",
        " [ 0.     0.     0.     0.07  -0.049  0.211  1.   ]]\n",
        "experimental corr:\n",
        " [[  1.000e+00   8.276e-01   3.514e-01   2.674e-01   2.700e-01  -2.743e-01\n",
        "   -3.370e-01]\n",
        " [  8.276e-01   1.000e+00   5.015e-01   2.110e-01   3.524e-01  -5.456e-03\n",
        "   -1.057e-01]\n",
        " [  3.514e-01   5.015e-01   1.000e+00   8.947e-04   3.815e-01   1.085e-01\n",
        "    2.663e-01]\n",
        " [  2.674e-01   2.110e-01   8.947e-04   1.000e+00   4.646e-01   2.935e-01\n",
        "    2.452e-01]\n",
        " [  2.700e-01   3.524e-01   3.815e-01   4.646e-01   1.000e+00   2.362e-01\n",
        "    2.538e-01]\n",
        " [ -2.743e-01  -5.456e-03   1.085e-01   2.935e-01   2.362e-01   1.000e+00\n",
        "    5.159e-01]\n",
        " [ -3.370e-01  -1.057e-01   2.663e-01   2.452e-01   2.538e-01   5.159e-01\n",
        "    1.000e+00]]\n",
        "GL corr:\n",
        " [[ 1.     0.551  0.131  0.075  0.088  0.006  0.   ]\n",
        " [ 0.551  1.     0.234  0.07   0.14   0.006  0.   ]\n",
        " [ 0.131  0.234  1.     0.064  0.186  0.005  0.   ]\n",
        " [ 0.075  0.07   0.064  1.     0.316  0.079  0.   ]\n",
        " [ 0.088  0.14   0.186  0.316  1.     0.025  0.   ]\n",
        " [ 0.006  0.006  0.005  0.079  0.025  1.     0.   ]\n",
        " [ 0.     0.     0.     0.     0.     0.     1.   ]]\n",
        " corr_theo - corr_exp : 0.324\n",
        " corr_theo - corr_GL : 0.115\n"
       ]
      }
     ],
     "prompt_number": 10,
     "trusted": true
    },
    {
     "cell_type": "heading",
     "level": 4,
     "metadata": {},
     "source": [
      "Compare Covariances"
     ]
    },
    {
     "cell_type": "code",
     "collapsed": false,
     "input": [
      "print(\"theoretical cov:\\n\",Ctheo)\n",
      "print(\"experimental cov:\\n\",np.cov(y))\n",
      "print(\"GL cov:\\n\",C_GL)\n",
      "print(\" Ctheo - Cexp : {:2.3f}\".format(frob_norm(Ctheo-np.cov(y))))\n",
      "print(\" Ctheo - C_GL : {:2.3f}\".format(frob_norm(Ctheo-C_GL)))"
     ],
     "language": "python",
     "metadata": {},
     "outputs": [
      {
       "output_type": "stream",
       "stream": "stdout",
       "text": [
        "theoretical cov:\n",
        " [[ 1.73   1.025  0.3    0.     0.     0.     0.   ]\n",
        " [ 1.025  1.653  0.84  -0.6    0.     0.     0.   ]\n",
        " [ 0.3    0.84   1.25  -0.36   0.6    0.08   0.   ]\n",
        " [ 0.    -0.6   -0.36   4.52   0.82   0.6    0.08 ]\n",
        " [ 0.     0.     0.6    0.82   2.29   0.06  -0.04 ]\n",
        " [ 0.     0.     0.08   0.6    0.06   1.52   0.14 ]\n",
        " [ 0.     0.     0.     0.08  -0.04   0.14   0.29 ]]\n",
        "experimental cov:\n",
        " [[  1.389e+00   1.091e+00   5.047e-01   5.052e-01   4.873e-01  -3.425e-01\n",
        "   -1.819e-01]\n",
        " [  1.091e+00   1.251e+00   6.835e-01   3.782e-01   6.034e-01  -6.463e-03\n",
        "   -5.413e-02]\n",
        " [  5.047e-01   6.835e-01   1.485e+00   1.748e-03   7.120e-01   1.401e-01\n",
        "    1.486e-01]\n",
        " [  5.052e-01   3.782e-01   1.748e-03   2.570e+00   1.141e+00   4.984e-01\n",
        "    1.800e-01]\n",
        " [  4.873e-01   6.034e-01   7.120e-01   1.141e+00   2.345e+00   3.831e-01\n",
        "    1.779e-01]\n",
        " [ -3.425e-01  -6.463e-03   1.401e-01   4.984e-01   3.831e-01   1.122e+00\n",
        "    2.502e-01]\n",
        " [ -1.819e-01  -5.413e-02   1.486e-01   1.800e-01   1.779e-01   2.502e-01\n",
        "    2.097e-01]]\n",
        "GL cov:\n",
        " [[ 1.296  0.678  0.176  0.132  0.149  0.007  0.   ]\n",
        " [ 0.678  1.167  0.298  0.117  0.223  0.006  0.   ]\n",
        " [ 0.176  0.298  1.386  0.117  0.325  0.006  0.   ]\n",
        " [ 0.132  0.117  0.117  2.398  0.725  0.125  0.   ]\n",
        " [ 0.149  0.223  0.325  0.725  2.189  0.038  0.   ]\n",
        " [ 0.007  0.006  0.006  0.125  0.038  1.047  0.   ]\n",
        " [ 0.     0.     0.     0.     0.     0.     0.196]]\n",
        " Ctheo - Cexp : 1.327\n",
        " Ctheo - C_GL : 1.199\n"
       ]
      }
     ],
     "prompt_number": 11,
     "trusted": true
    },
    {
     "cell_type": "heading",
     "level": 3,
     "metadata": {},
     "source": [
      "Ledoit-Wolf estimator"
     ]
    },
    {
     "cell_type": "markdown",
     "metadata": {},
     "source": [
      "(1 - shrinkage)*cov\n",
      "        + shrinkage*mu*np.identity(n_features)\n",
      "\n",
      "with \n",
      "\n",
      "* mu from \n",
      "     mu = trace(cov) / n_features\n",
      "* shrinkage from\n",
      "    \u201cA Well-Conditioned Estimator for Large-Dimensional Covariance Matrices\u201d, Ledoit and Wolf, Journal of Multivariate Analysis, Volume 88, Issue 2, February 2004, pages 365-411."
     ]
    },
    {
     "cell_type": "code",
     "collapsed": false,
     "input": [
      "LW = LedoitWolf(store_precision=True, assume_centered=False, block_size=1000)\n",
      "LW.fit(y.T)"
     ],
     "language": "python",
     "metadata": {},
     "outputs": [
      {
       "metadata": {},
       "output_type": "pyout",
       "prompt_number": 12,
       "text": [
        "LedoitWolf(assume_centered=False, block_size=1000, store_precision=True)"
       ]
      }
     ],
     "prompt_number": 12,
     "trusted": true
    },
    {
     "cell_type": "code",
     "collapsed": false,
     "input": [
      "C_LW = LW.covariance_"
     ],
     "language": "python",
     "metadata": {},
     "outputs": [],
     "prompt_number": 13,
     "trusted": true
    },
    {
     "cell_type": "code",
     "collapsed": false,
     "input": [
      "print(\"theoretical cov:\\n\",Ctheo)\n",
      "print(\"experimental cov:\\n\",np.cov(y))\n",
      "print(\"LW cov:\\n\",C_LW)\n",
      "print(\" Ctheo - Cexp : {:2.3f}\".format(frob_norm(Ctheo-np.cov(y))))\n",
      "print(\" Ctheo - C_GL : {:2.3f}\".format(frob_norm(Ctheo-C_GL)))\n",
      "print(\" Ctheo - C_LW : {:2.3f}\".format(frob_norm(Ctheo-C_LW)))"
     ],
     "language": "python",
     "metadata": {},
     "outputs": [
      {
       "output_type": "stream",
       "stream": "stdout",
       "text": [
        "theoretical cov:\n",
        " [[ 1.73   1.025  0.3    0.     0.     0.     0.   ]\n",
        " [ 1.025  1.653  0.84  -0.6    0.     0.     0.   ]\n",
        " [ 0.3    0.84   1.25  -0.36   0.6    0.08   0.   ]\n",
        " [ 0.    -0.6   -0.36   4.52   0.82   0.6    0.08 ]\n",
        " [ 0.     0.     0.6    0.82   2.29   0.06  -0.04 ]\n",
        " [ 0.     0.     0.08   0.6    0.06   1.52   0.14 ]\n",
        " [ 0.     0.     0.     0.08  -0.04   0.14   0.29 ]]\n",
        "experimental cov:\n",
        " [[  1.389e+00   1.091e+00   5.047e-01   5.052e-01   4.873e-01  -3.425e-01\n",
        "   -1.819e-01]\n",
        " [  1.091e+00   1.251e+00   6.835e-01   3.782e-01   6.034e-01  -6.463e-03\n",
        "   -5.413e-02]\n",
        " [  5.047e-01   6.835e-01   1.485e+00   1.748e-03   7.120e-01   1.401e-01\n",
        "    1.486e-01]\n",
        " [  5.052e-01   3.782e-01   1.748e-03   2.570e+00   1.141e+00   4.984e-01\n",
        "    1.800e-01]\n",
        " [  4.873e-01   6.034e-01   7.120e-01   1.141e+00   2.345e+00   3.831e-01\n",
        "    1.779e-01]\n",
        " [ -3.425e-01  -6.463e-03   1.401e-01   4.984e-01   3.831e-01   1.122e+00\n",
        "    2.502e-01]\n",
        " [ -1.819e-01  -5.413e-02   1.486e-01   1.800e-01   1.779e-01   2.502e-01\n",
        "    2.097e-01]]\n",
        "LW cov:\n",
        " [[  1.344e+00   4.591e-01   2.124e-01   2.126e-01   2.051e-01  -1.442e-01\n",
        "   -7.655e-02]\n",
        " [  4.591e-01   1.286e+00   2.877e-01   1.592e-01   2.540e-01  -2.720e-03\n",
        "   -2.278e-02]\n",
        " [  2.124e-01   2.877e-01   1.384e+00   7.357e-04   2.997e-01   5.896e-02\n",
        "    6.255e-02]\n",
        " [  2.126e-01   1.592e-01   7.357e-04   1.841e+00   4.801e-01   2.098e-01\n",
        "    7.576e-02]\n",
        " [  2.051e-01   2.540e-01   2.997e-01   4.801e-01   1.746e+00   1.613e-01\n",
        "    7.489e-02]\n",
        " [ -1.442e-01  -2.720e-03   5.896e-02   2.098e-01   1.613e-01   1.231e+00\n",
        "    1.053e-01]\n",
        " [ -7.655e-02  -2.278e-02   6.255e-02   7.576e-02   7.489e-02   1.053e-01\n",
        "    8.475e-01]]\n",
        " Ctheo - Cexp : 1.327\n",
        " Ctheo - C_GL : 1.199\n",
        " Ctheo - C_LW : 1.711\n"
       ]
      }
     ],
     "prompt_number": 14,
     "trusted": true
    },
    {
     "cell_type": "code",
     "collapsed": false,
     "input": [],
     "language": "python",
     "metadata": {},
     "outputs": [],
     "prompt_number": 14,
     "trusted": true
    },
    {
     "cell_type": "markdown",
     "metadata": {},
     "source": []
    },
    {
     "cell_type": "heading",
     "level": 2,
     "metadata": {},
     "source": [
      "Trying out other things : not relevant today"
     ]
    },
    {
     "cell_type": "heading",
     "level": 4,
     "metadata": {},
     "source": [
      "Simulate a sparse precision matrix.  Conclusion: if N>=50, it becomes hard to fin tril matrices that are not rank deficient"
     ]
    },
    {
     "cell_type": "code",
     "collapsed": false,
     "input": [
      "# create a covariance matrix of N nodes with T time values (repetitions) and sparsity of \n",
      "# precision matrix is L% \n",
      "\n",
      "\n",
      "def sim_sqrtP(N, L):\n",
      "    \"\"\"\n",
      "    L : put L% zeros in the sqrtP matrix\n",
      "    \"\"\"\n",
      "    \n",
      "    def arr_entries(n,norm_nbentries=N):\n",
      "        return np.abs(np.random.randn(n))*norm_nbentries\n",
      "    \n",
      "    # define the inverse square root matrix\n",
      "    # strict lower\n",
      "\n",
      "    Z = np.zeros((N-1,N-1))\n",
      "    tri_indices = np.tril_indices_from(Z)\n",
      "    P = np.zeros((N,N))\n",
      "\n",
      "    n_tri = tri_indices[0].shape[0]\n",
      "    try:\n",
      "        assert int((N)*(N-1)/2) == n_tri\n",
      "    except:\n",
      "        print(\"Aie : {} differ from {}\".format(int((N)*(N-1)/2), n_tri))\n",
      "            \n",
      "    n_zeros = iround(n_tri*L)\n",
      "    z = arr_entries(n_tri)\n",
      "    z[:n_zeros] = 0\n",
      "    z = np.random.permutation(z)\n",
      "    \n",
      "    P[(tri_indices[0]+1, tri_indices[1])] = z\n",
      "    # fill the diagonal\n",
      "    P[(np.arange(N),np.arange(N))] = arr_entries(N)\n",
      "    \n",
      "    rkP = np.linalg.matrix_rank(P)\n",
      "    if rkP < N:\n",
      "        print(\"rank deficient {}\".format(rkP))\n",
      "        return None\n",
      "    \n",
      "    return P\n"
     ],
     "language": "python",
     "metadata": {},
     "outputs": [],
     "prompt_number": 15,
     "trusted": true
    },
    {
     "cell_type": "code",
     "collapsed": false,
     "input": [
      "N = 6\n",
      "Z = np.zeros((N,N))\n",
      "sqrtP = sim_sqrtP(7, .5)\n",
      "np.set_printoptions(precision=1)\n",
      "print('{}\\n'.format(sqrtP))\n",
      "Prec = sqrtP.dot(sqrtP.T)\n",
      "print(Prec,\"\\n\")\n",
      "print(lin.inv(Prec))"
     ],
     "language": "python",
     "metadata": {},
     "outputs": [
      {
       "output_type": "stream",
       "stream": "stdout",
       "text": [
        "[[  5.9   0.    0.    0.    0.    0.    0. ]\n",
        " [  8.4   0.8   0.    0.    0.    0.    0. ]\n",
        " [  0.    0.   12.8   0.    0.    0.    0. ]\n",
        " [  5.6   0.    0.    5.4   0.    0.    0. ]\n",
        " [ 10.3  11.2   0.    8.9  15.9   0.    0. ]\n",
        " [  0.    5.8   0.    0.    0.    3.6   0. ]\n",
        " [  3.3  11.7   6.1  12.4   0.    0.    5.6]]\n",
        "\n",
        "[[  34.8   49.7    0.    33.3   61.     0.    19.6]\n",
        " [  49.7   71.7    0.    47.6   96.4    4.8   37.6]\n",
        " [   0.     0.   163.4    0.     0.     0.    78.4]\n",
        " [  33.3   47.6    0.    61.4  106.7    0.    86. ]\n",
        " [  61.    96.4    0.   106.7  565.8   64.8  275.2]\n",
        " [   0.     4.8    0.     0.    64.8   46.1   67.4]\n",
        " [  19.6   37.6   78.4   86.   275.2   67.4  369.6]] \n",
        "\n",
        "[[  2.7e+01  -1.8e+01  -3.3e-01  -1.7e+00   7.6e-02   7.9e-01   6.9e-01]\n",
        " [ -1.8e+01   1.2e+01   2.2e-01   1.1e+00  -5.3e-02  -5.5e-01  -4.5e-01]\n",
        " [ -3.3e-01   2.2e-01   1.3e-02   3.5e-02   2.2e-16   2.9e-15  -1.5e-02]\n",
        " [ -1.7e+00   1.1e+00   3.5e-02   2.1e-01  -6.4e-03   1.5e-14  -7.2e-02]\n",
        " [  7.6e-02  -5.3e-02   2.9e-16  -6.4e-03   3.9e-03  -7.0e-16  -6.1e-16]\n",
        " [  7.9e-01  -5.5e-01   2.9e-15   1.5e-14  -5.6e-16   7.8e-02  -6.1e-15]\n",
        " [  6.9e-01  -4.5e-01  -1.5e-02  -7.2e-02  -4.4e-16  -6.0e-15   3.2e-02]]\n"
       ]
      }
     ],
     "prompt_number": 16,
     "trusted": true
    },
    {
     "cell_type": "code",
     "collapsed": false,
     "input": [
      "N = 100\n",
      "M = np.tril(np.abs(np.random.randn(N,N)))\n",
      "np.linalg.matrix_rank(M)\n",
      "(u, s, vt) = lin.svd(M, full_matrices=False)\n",
      "plt.plot(s[N-5:])"
     ],
     "language": "python",
     "metadata": {},
     "outputs": [
      {
       "metadata": {},
       "output_type": "pyout",
       "prompt_number": 20,
       "text": [
        "[<matplotlib.lines.Line2D at 0x4ac5290>]"
       ]
      },
      {
       "metadata": {},
       "output_type": "display_data",
       "png": "[encoded data removed]",
       "text": [
        "<matplotlib.figure.Figure at 0x4937050>"
       ]
      }
     ],
     "prompt_number": 20,
     "trusted": true
    },
    {
     "cell_type": "code",
     "collapsed": false,
     "input": [
      "\n",
      "print(s[N-5:])\n",
      "plt.plot(u[1:15,N-1])"
     ],
     "language": "python",
     "metadata": {},
     "outputs": [
      {
       "output_type": "stream",
       "stream": "stdout",
       "text": [
        "[  1.1e-04   4.2e-06   1.1e-08   6.2e-11   3.6e-15]\n"
       ]
      },
      {
       "metadata": {},
       "output_type": "pyout",
       "prompt_number": 21,
       "text": [
        "[<matplotlib.lines.Line2D at 0x4d71590>]"
       ]
      },
      {
       "metadata": {},
       "output_type": "display_data",
       "png": "[encoded data removed]",
       "text": [
        "<matplotlib.figure.Figure at 0x4ab2710>"
       ]
      }
     ],
     "prompt_number": 21,
     "trusted": true
    },
    {
     "cell_type": "code",
     "collapsed": false,
     "input": [
      "nulld = u[:,-1]\n",
      "print(nulld[:10])\n",
      "print(M.T.dot(nulld).T)"
     ],
     "language": "python",
     "metadata": {},
     "outputs": [
      {
       "output_type": "stream",
       "stream": "stdout",
       "text": [
        "[ -5.6e-02  -3.2e-01   9.4e-01  -2.0e-02   1.1e-02  -3.9e-03  -2.0e-03\n",
        "   3.9e-03  -4.8e-04   1.5e-04]\n",
        "[ -1.7e-17  -2.6e-16   9.3e-16  -1.2e-15   1.6e-15   3.8e-16  -1.6e-15\n",
        "  -7.7e-16   1.3e-15   2.9e-16   3.9e-16   2.0e-16   7.3e-16   4.1e-16\n",
        "  -5.7e-16   1.1e-15   1.2e-15   1.2e-15   2.6e-15   9.6e-16  -8.2e-17\n",
        "   9.5e-16   1.3e-15   1.8e-15   6.5e-16   1.5e-15   6.4e-16   6.8e-16\n",
        "   2.8e-16   6.4e-16   5.1e-16   1.2e-15   1.4e-15   1.2e-15   6.7e-16\n",
        "   1.4e-15   8.3e-16   1.0e-15   8.6e-16   1.3e-15   1.2e-15   2.0e-15\n",
        "   2.7e-16   4.6e-16   1.1e-15   1.1e-15   1.1e-15   1.6e-15   1.2e-15\n",
        "   1.4e-15  -1.5e-19   4.7e-16   4.4e-16   9.0e-16   9.9e-16   6.5e-16\n",
        "   2.0e-15   1.6e-15   1.0e-15   1.4e-15   1.3e-15   7.6e-16   1.8e-15\n",
        "   1.2e-15   8.0e-16   7.8e-16   1.6e-15   1.1e-15   1.3e-15   1.2e-15\n",
        "   2.9e-16   9.3e-16   1.6e-15  -7.9e-17   9.6e-16   8.8e-16   8.9e-16\n",
        "   8.6e-16   1.0e-15   7.5e-16   3.9e-16   1.1e-15   3.0e-16   8.8e-16\n",
        "   6.1e-16   2.5e-16   3.7e-16   8.1e-16   3.8e-16   2.4e-16   2.6e-16\n",
        "  -1.7e-16   4.9e-16   4.4e-16  -1.3e-16   1.2e-16   7.7e-17   1.1e-16\n",
        "  -6.1e-17  -3.0e-17]\n"
       ]
      }
     ],
     "prompt_number": 19,
     "trusted": true
    }
   ],
   "metadata": {}
  }
 ]
}