{
 "metadata": {
  "name": "",
  "signature": "sha256:ff52b3941cf4e2d4c3ef1ee2710e7a76130693965478df61b04cfad244851506"
 },
 "nbformat": 3,
 "nbformat_minor": 0,
 "worksheets": [
  {
   "cells": [
    {
     "cell_type": "code",
     "collapsed": false,
     "input": [
      "import numpy as np\n",
      "import sklearn as skl\n",
      "import scipy.linalg as lin\n",
      "# % run ../utils/stats\n",
      "from __future__ import print_function\n",
      "import matplotlib.pylab as plt"
     ],
     "language": "python",
     "metadata": {},
     "outputs": [],
     "prompt_number": 1,
     "trusted": true
    },
    {
     "cell_type": "heading",
     "level": 2,
     "metadata": {},
     "source": [
      "The problem\n"
     ]
    },
    {
     "cell_type": "heading",
     "level": 3,
     "metadata": {},
     "source": []
    },
    {
     "cell_type": "code",
     "collapsed": false,
     "input": [
      "# construct data with a certain covariance matrix\n",
      "\n",
      "def cov2corr(C):\n",
      "    \"\"\"\n",
      "    no check that it is symetric positive\n",
      "    \"\"\"\n",
      "    C = np.asarray(C)\n",
      "    D = 1./np.sqrt(np.diag(C))\n",
      "    C = C*D[np.newaxis]\n",
      "    C = (C.T*D[np.newaxis])\n",
      "    return C \n",
      "\n",
      "\n",
      "def frob_norm(C, scaling=True):\n",
      "    \"\"\"\n",
      "    \"\"\"\n",
      "    return (C**2).sum()/np.min(np.asarray(C.shape))\n",
      "\n",
      "def Cex_vs_Cth(N,T,compare='max'):\n",
      "    \"\"\"\n",
      "    \"\"\"\n",
      "    x = np.random.normal(0,1,size=(N,T))\n",
      "    A = np.random.normal(0,1,size=(N,N))\n",
      "    y = A.dot(x)\n",
      "    Cexp = np.cov(y)\n",
      "    Ctheo = A.dot(A.T)\n",
      "    # np.max(np.abs(Cexp-Ctheo)))\n",
      "    if compare=='max':\n",
      "        return(np.mean(np.abs(cov2corr(Cexp)-cov2corr(Ctheo))))\n",
      "\n",
      "# check \n",
      "C = [[1.0, 1.0,  8.1],\n",
      "     [1.0, 16.0, 18.0],\n",
      "     [8.1, 18.0, 81.0]];\n",
      "\n",
      "np.set_printoptions(precision=3)\n",
      "print(cov2corr(C))\n"
     ],
     "language": "python",
     "metadata": {},
     "outputs": [
      {
       "output_type": "stream",
       "stream": "stdout",
       "text": [
        "[[ 1.    0.25  0.9 ]\n",
        " [ 0.25  1.    0.5 ]\n",
        " [ 0.9   0.5   1.  ]]\n"
       ]
      }
     ],
     "prompt_number": 2,
     "trusted": true
    },
    {
     "cell_type": "heading",
     "level": 2,
     "metadata": {},
     "source": [
      "Two cases: we can estimate a non degenerate covariance - or we cannot"
     ]
    },
    {
     "cell_type": "code",
     "collapsed": false,
     "input": [
      "N = 10\n",
      "T = 20\n",
      "x = np.random.normal(0,1,size=(N,T))\n",
      "A = np.random.normal(0,1,size=(N,N))\n",
      "y = A.dot(x)\n",
      "Cexp = np.cov(y)\n",
      "print(\"np.linalg.matrix_rank(Cexp) {}\".format(np.linalg.matrix_rank(Cexp)))\n",
      "Ctheo = A.dot(A.T)\n",
      "print(np.max(np.abs(Cexp-Ctheo)))\n",
      "print(np.max(np.abs(cov2corr(Cexp)-cov2corr(Ctheo))))\n",
      "print(frob_norm(cov2corr(Cexp)-cov2corr(Ctheo)))\n"
     ],
     "language": "python",
     "metadata": {},
     "outputs": [
      {
       "output_type": "stream",
       "stream": "stdout",
       "text": [
        "np.linalg.matrix_rank(Cexp) 10\n",
        "5.27290968184\n",
        "0.497219988296\n",
        "0.269048988035\n"
       ]
      }
     ],
     "prompt_number": 3,
     "trusted": true
    },
    {
     "cell_type": "code",
     "collapsed": false,
     "input": [],
     "language": "python",
     "metadata": {},
     "outputs": [],
     "prompt_number": 3,
     "trusted": true
    },
    {
     "cell_type": "code",
     "collapsed": false,
     "input": [
      "N = 20\n",
      "T = np.arange(10,500,10)\n",
      "Rep = 1\n",
      "res = [ np.mean(np.asarray([Cex_vs_Cth(N,t) for i in range(Rep)])) \n",
      "                                                   for t in T]\n",
      "line = plt.plot(res)"
     ],
     "language": "python",
     "metadata": {},
     "outputs": [
      {
       "metadata": {},
       "output_type": "display_data",
       "png": "[encoded data removed]",
       "text": [
        "<matplotlib.figure.Figure at 0x4382a50>"
       ]
      }
     ],
     "prompt_number": 4,
     "trusted": true
    },
    {
     "cell_type": "code",
     "collapsed": false,
     "input": [],
     "language": "python",
     "metadata": {},
     "outputs": [],
     "prompt_number": 4,
     "trusted": true
    },
    {
     "cell_type": "heading",
     "level": 2,
     "metadata": {},
     "source": [
      "An (explicit) graphical model example"
     ]
    },
    {
     "cell_type": "code",
     "collapsed": false,
     "input": [
      "# let's make a small number of nodes gaussians, depending on each others\n",
      "N = 7\n",
      "A = np.zeros((N,N))\n",
      "A[0,:] = [1., .8, .3, 0, 0 ,0, 0] \n",
      "A[1,:] = [0, 1., .75, -.3, 0, 0 ,0] \n",
      "A[2,:] = [0, 0., 1., -.3, .4, 0 ,0] \n",
      "A[3,:] = [0, 0, 0, 2, .6, .4, 0] \n",
      "A[4,:] = [0, 0, 0, 0, 1.5, -.2, 0] \n",
      "A[5,:] = [0, 0, 0, 0, .2, 1.2, -.2] \n",
      "A[6,:] = [0, 0, 0, 0, 0, .2, .5] "
     ],
     "language": "python",
     "metadata": {},
     "outputs": [],
     "prompt_number": 5,
     "trusted": true
    },
    {
     "cell_type": "code",
     "collapsed": false,
     "input": [
      "T = 10\n",
      "N = A.shape[0]\n",
      "x = np.random.normal(0,1,size=(N,T))\n",
      "y = A.dot(x)\n",
      "print(y.shape)\n",
      "np.set_printoptions(precision=2)\n",
      "\n",
      "print(\"theoretical corr:\\n\",cov2corr((A.dot(A.T))))\n",
      "print(\"experimental corr:\\n\",np.corrcoef(y),\"\\n\")\n",
      "print(\"theoretical cov:\\n\",((A.dot(A.T))))\n",
      "print(\"experimental cov:\\n\",np.cov(y))\n"
     ],
     "language": "python",
     "metadata": {},
     "outputs": [
      {
       "output_type": "stream",
       "stream": "stdout",
       "text": [
        "(7, 10)\n",
        "theoretical corr:\n",
        " [[ 1.    0.61  0.2   0.    0.    0.    0.  ]\n",
        " [ 0.61  1.    0.58 -0.22  0.    0.    0.  ]\n",
        " [ 0.2   0.58  1.   -0.15  0.35  0.06  0.  ]\n",
        " [ 0.   -0.22 -0.15  1.    0.25  0.23  0.07]\n",
        " [ 0.    0.    0.35  0.25  1.    0.03 -0.05]\n",
        " [ 0.    0.    0.06  0.23  0.03  1.    0.21]\n",
        " [ 0.    0.    0.    0.07 -0.05  0.21  1.  ]]\n",
        "experimental corr:\n",
        " [[ 1.    0.63  0.09  0.17 -0.36 -0.23 -0.05]\n",
        " [ 0.63  1.    0.59  0.05  0.14 -0.31 -0.41]\n",
        " [ 0.09  0.59  1.   -0.07  0.47 -0.07 -0.57]\n",
        " [ 0.17  0.05 -0.07  1.    0.26  0.71  0.49]\n",
        " [-0.36  0.14  0.47  0.26  1.    0.26  0.14]\n",
        " [-0.23 -0.31 -0.07  0.71  0.26  1.    0.45]\n",
        " [-0.05 -0.41 -0.57  0.49  0.14  0.45  1.  ]] \n",
        "\n",
        "theoretical cov:\n",
        " [[ 1.73  1.02  0.3   0.    0.    0.    0.  ]\n",
        " [ 1.02  1.65  0.84 -0.6   0.    0.    0.  ]\n",
        " [ 0.3   0.84  1.25 -0.36  0.6   0.08  0.  ]\n",
        " [ 0.   -0.6  -0.36  4.52  0.82  0.6   0.08]\n",
        " [ 0.    0.    0.6   0.82  2.29  0.06 -0.04]\n",
        " [ 0.    0.    0.08  0.6   0.06  1.52  0.14]\n",
        " [ 0.    0.    0.    0.08 -0.04  0.14  0.29]]\n",
        "experimental cov:\n",
        " [[ 1.63  0.72  0.13  0.22 -0.74 -0.3  -0.03]\n",
        " [ 0.72  0.8   0.56  0.04  0.2  -0.29 -0.16]\n",
        " [ 0.13  0.56  1.1  -0.08  0.8  -0.07 -0.26]\n",
        " [ 0.22  0.04 -0.08  1.02  0.42  0.74  0.22]\n",
        " [-0.74  0.2   0.8   0.42  2.59  0.43  0.1 ]\n",
        " [-0.3  -0.29 -0.07  0.74  0.43  1.07  0.2 ]\n",
        " [-0.03 -0.16 -0.26  0.22  0.1   0.2   0.19]]\n"
       ]
      }
     ],
     "prompt_number": 6,
     "trusted": true
    },
    {
     "cell_type": "markdown",
     "metadata": {},
     "source": [
      "Conclusion: estimation can be real bad with a small number of points.\n",
      "See how bad it gets if you have less data than regions"
     ]
    },
    {
     "cell_type": "heading",
     "level": 3,
     "metadata": {},
     "source": [
      "Graph Lasso Estimation"
     ]
    },
    {
     "cell_type": "code",
     "collapsed": false,
     "input": [
      "from sklearn.covariance import GraphLassoCV, GraphLasso, LedoitWolf"
     ],
     "language": "python",
     "metadata": {},
     "outputs": [],
     "prompt_number": 7,
     "trusted": true
    },
    {
     "cell_type": "markdown",
     "metadata": {},
     "source": [
      "####Scikit-learn : cite:\n",
      "\n",
      "Pedregosa, Fabian, Ga\u00ebl Varoquaux, Alexandre Gramfort, Vincent Michel, Bertrand Thirion, Olivier Grisel, Mathieu Blondel, Peter Prettenhofer, Ron Weiss, and Vincent Dubourg. \u201cScikit-Learn: Machine Learning in Python.\u201d The Journal of Machine Learning Research 12 (2011): 2825\u201330."
     ]
    },
    {
     "cell_type": "code",
     "collapsed": false,
     "input": [
      "GL = GraphLassoCV(alphas=10, mode='cd')\n",
      "GL.fit(y.T)"
     ],
     "language": "python",
     "metadata": {},
     "outputs": [
      {
       "metadata": {},
       "output_type": "pyout",
       "prompt_number": 8,
       "text": [
        "GraphLassoCV(alphas=10, assume_centered=False, cv=None, max_iter=100,\n",
        "       mode='cd', n_jobs=1, n_refinements=4, tol=0.0001, verbose=False)"
       ]
      }
     ],
     "prompt_number": 8,
     "trusted": true
    },
    {
     "cell_type": "code",
     "collapsed": false,
     "input": [
      "C_GL = GL.covariance_\n",
      "Prec_GL = GL.precision_"
     ],
     "language": "python",
     "metadata": {},
     "outputs": [],
     "prompt_number": 9,
     "trusted": true
    },
    {
     "cell_type": "heading",
     "level": 4,
     "metadata": {},
     "source": [
      "Compare correlations"
     ]
    },
    {
     "cell_type": "code",
     "collapsed": false,
     "input": [
      "np.set_printoptions(precision=3)\n",
      "Ctheo = A.dot(A.T)\n",
      "print(\"theoretical corr:\\n\",cov2corr(Ctheo))\n",
      "print(\"experimental corr:\\n\",np.corrcoef(y))\n",
      "print(\"GL corr:\\n\",cov2corr(C_GL))\n",
      "print(\" corr_theo - corr_exp : {:2.3f}\".format(frob_norm(cov2corr(Ctheo)-np.corrcoef(y))))\n",
      "print(\" corr_theo - corr_GL : {:2.3f}\".format(frob_norm(cov2corr(Ctheo)-cov2corr(C_GL))))\n"
     ],
     "language": "python",
     "metadata": {},
     "outputs": [
      {
       "output_type": "stream",
       "stream": "stdout",
       "text": [
        "theoretical corr:\n",
        " [[ 1.     0.606  0.204  0.     0.     0.     0.   ]\n",
        " [ 0.606  1.     0.584 -0.22   0.     0.     0.   ]\n",
        " [ 0.204  0.584  1.    -0.151  0.355  0.058  0.   ]\n",
        " [ 0.    -0.22  -0.151  1.     0.255  0.229  0.07 ]\n",
        " [ 0.     0.     0.355  0.255  1.     0.032 -0.049]\n",
        " [ 0.     0.     0.058  0.229  0.032  1.     0.211]\n",
        " [ 0.     0.     0.     0.07  -0.049  0.211  1.   ]]\n",
        "experimental corr:\n",
        " [[ 1.     0.631  0.094  0.173 -0.361 -0.228 -0.052]\n",
        " [ 0.631  1.     0.594  0.045  0.138 -0.31  -0.415]\n",
        " [ 0.094  0.594  1.    -0.073  0.474 -0.066 -0.565]\n",
        " [ 0.173  0.045 -0.073  1.     0.256  0.712  0.494]\n",
        " [-0.361  0.138  0.474  0.256  1.     0.259  0.143]\n",
        " [-0.228 -0.31  -0.066  0.712  0.259  1.     0.446]\n",
        " [-0.052 -0.415 -0.565  0.494  0.143  0.446  1.   ]]\n",
        "GL corr:\n",
        " [[  1.000e+00   2.605e-01   2.820e-03  -5.609e-04  -1.560e-01  -9.105e-04\n",
        "    0.000e+00]\n",
        " [  2.605e-01   1.000e+00   1.443e-01   8.258e-05  -8.305e-03  -1.379e-05\n",
        "    0.000e+00]\n",
        " [  2.820e-03   1.443e-01   1.000e+00   3.763e-04   2.248e-01   1.179e-03\n",
        "    0.000e+00]\n",
        " [ -5.609e-04   8.258e-05   3.763e-04   1.000e+00   1.612e-03   3.085e-01\n",
        "    0.000e+00]\n",
        " [ -1.560e-01  -8.305e-03   2.248e-01   1.612e-03   1.000e+00   5.225e-03\n",
        "    0.000e+00]\n",
        " [ -9.105e-04  -1.379e-05   1.179e-03   3.085e-01   5.225e-03   1.000e+00\n",
        "    0.000e+00]\n",
        " [  0.000e+00   0.000e+00   0.000e+00   0.000e+00   0.000e+00   0.000e+00\n",
        "    1.000e+00]]\n",
        " corr_theo - corr_exp : 0.428\n",
        " corr_theo - corr_GL : 0.169\n"
       ]
      }
     ],
     "prompt_number": 10,
     "trusted": true
    },
    {
     "cell_type": "heading",
     "level": 4,
     "metadata": {},
     "source": [
      "Compare Covariances"
     ]
    },
    {
     "cell_type": "code",
     "collapsed": false,
     "input": [
      "print(\"theoretical cov:\\n\",Ctheo)\n",
      "print(\"experimental cov:\\n\",np.cov(y))\n",
      "print(\"GL cov:\\n\",C_GL)\n",
      "print(\" Ctheo - Cexp : {:2.3f}\".format(frob_norm(Ctheo-np.cov(y))))\n",
      "print(\" Ctheo - C_GL : {:2.3f}\".format(frob_norm(Ctheo-C_GL)))"
     ],
     "language": "python",
     "metadata": {},
     "outputs": [
      {
       "output_type": "stream",
       "stream": "stdout",
       "text": [
        "theoretical cov:\n",
        " [[ 1.73   1.025  0.3    0.     0.     0.     0.   ]\n",
        " [ 1.025  1.653  0.84  -0.6    0.     0.     0.   ]\n",
        " [ 0.3    0.84   1.25  -0.36   0.6    0.08   0.   ]\n",
        " [ 0.    -0.6   -0.36   4.52   0.82   0.6    0.08 ]\n",
        " [ 0.     0.     0.6    0.82   2.29   0.06  -0.04 ]\n",
        " [ 0.     0.     0.08   0.6    0.06   1.52   0.14 ]\n",
        " [ 0.     0.     0.     0.08  -0.04   0.14   0.29 ]]\n",
        "experimental cov:\n",
        " [[ 1.63   0.719  0.126  0.223 -0.742 -0.3   -0.029]\n",
        " [ 0.719  0.796  0.557  0.041  0.198 -0.286 -0.163]\n",
        " [ 0.126  0.557  1.103 -0.078  0.801 -0.071 -0.261]\n",
        " [ 0.223  0.041 -0.078  1.023  0.417  0.744  0.22 ]\n",
        " [-0.742  0.198  0.801  0.417  2.588  0.43   0.101]\n",
        " [-0.3   -0.286 -0.071  0.744  0.43   1.065  0.203]\n",
        " [-0.029 -0.163 -0.261  0.22   0.101  0.203  0.194]]\n",
        "GL cov:\n",
        " [[  1.467e+00   2.671e-01   3.403e-03  -6.519e-04  -2.883e-01  -1.080e-03\n",
        "    0.000e+00]\n",
        " [  2.671e-01   7.167e-01   1.217e-01   6.708e-05  -1.073e-02  -1.144e-05\n",
        "    0.000e+00]\n",
        " [  3.403e-03   1.217e-01   9.925e-01   3.597e-04   3.417e-01   1.150e-03\n",
        "    0.000e+00]\n",
        " [ -6.519e-04   6.708e-05   3.597e-04   9.207e-01   2.360e-03   2.898e-01\n",
        "    0.000e+00]\n",
        " [ -2.883e-01  -1.073e-02   3.417e-01   2.360e-03   2.329e+00   7.808e-03\n",
        "    0.000e+00]\n",
        " [ -1.080e-03  -1.144e-05   1.150e-03   2.898e-01   7.808e-03   9.589e-01\n",
        "    0.000e+00]\n",
        " [  0.000e+00   0.000e+00   0.000e+00   0.000e+00   0.000e+00   0.000e+00\n",
        "    1.745e-01]]\n",
        " Ctheo - Cexp : 2.479\n",
        " Ctheo - C_GL : 2.791\n"
       ]
      }
     ],
     "prompt_number": 11,
     "trusted": true
    },
    {
     "cell_type": "heading",
     "level": 3,
     "metadata": {},
     "source": [
      "Ledoit-Wolf estimator"
     ]
    },
    {
     "cell_type": "markdown",
     "metadata": {},
     "source": [
      "(1 - shrinkage)*cov\n",
      "        + shrinkage*mu*np.identity(n_features)\n",
      "\n",
      "with \n",
      "\n",
      "* mu from \n",
      "     mu = trace(cov) / n_features\n",
      "* shrinkage from\n",
      "    \u201cA Well-Conditioned Estimator for Large-Dimensional Covariance Matrices\u201d, Ledoit and Wolf, Journal of Multivariate Analysis, Volume 88, Issue 2, February 2004, pages 365-411."
     ]
    },
    {
     "cell_type": "code",
     "collapsed": false,
     "input": [
      "LW = LedoitWolf(store_precision=True, assume_centered=False, block_size=1000)\n",
      "LW.fit(y.T)"
     ],
     "language": "python",
     "metadata": {},
     "outputs": [
      {
       "metadata": {},
       "output_type": "pyout",
       "prompt_number": 12,
       "text": [
        "LedoitWolf(assume_centered=False, block_size=1000, store_precision=True)"
       ]
      }
     ],
     "prompt_number": 12,
     "trusted": true
    },
    {
     "cell_type": "code",
     "collapsed": false,
     "input": [
      "C_LW = LW.covariance_"
     ],
     "language": "python",
     "metadata": {},
     "outputs": [],
     "prompt_number": 13,
     "trusted": true
    },
    {
     "cell_type": "code",
     "collapsed": false,
     "input": [
      "print(\"theoretical cov:\\n\",Ctheo)\n",
      "print(\"experimental cov:\\n\",np.cov(y))\n",
      "print(\"LW cov:\\n\",C_LW)\n",
      "print(\" Ctheo - Cexp : {:2.3f}\".format(frob_norm(Ctheo-np.cov(y))))\n",
      "print(\" Ctheo - C_GL : {:2.3f}\".format(frob_norm(Ctheo-C_GL)))\n",
      "print(\" Ctheo - C_LW : {:2.3f}\".format(frob_norm(Ctheo-C_LW)))"
     ],
     "language": "python",
     "metadata": {},
     "outputs": [
      {
       "output_type": "stream",
       "stream": "stdout",
       "text": [
        "theoretical cov:\n",
        " [[ 1.73   1.025  0.3    0.     0.     0.     0.   ]\n",
        " [ 1.025  1.653  0.84  -0.6    0.     0.     0.   ]\n",
        " [ 0.3    0.84   1.25  -0.36   0.6    0.08   0.   ]\n",
        " [ 0.    -0.6   -0.36   4.52   0.82   0.6    0.08 ]\n",
        " [ 0.     0.     0.6    0.82   2.29   0.06  -0.04 ]\n",
        " [ 0.     0.     0.08   0.6    0.06   1.52   0.14 ]\n",
        " [ 0.     0.     0.     0.08  -0.04   0.14   0.29 ]]\n",
        "experimental cov:\n",
        " [[ 1.63   0.719  0.126  0.223 -0.742 -0.3   -0.029]\n",
        " [ 0.719  0.796  0.557  0.041  0.198 -0.286 -0.163]\n",
        " [ 0.126  0.557  1.103 -0.078  0.801 -0.071 -0.261]\n",
        " [ 0.223  0.041 -0.078  1.023  0.417  0.744  0.22 ]\n",
        " [-0.742  0.198  0.801  0.417  2.588  0.43   0.101]\n",
        " [-0.3   -0.286 -0.071  0.744  0.43   1.065  0.203]\n",
        " [-0.029 -0.163 -0.261  0.22   0.101  0.203  0.194]]\n",
        "LW cov:\n",
        " [[ 1.133  0.09   0.016  0.028 -0.093 -0.037 -0.004]\n",
        " [ 0.09   1.03   0.069  0.005  0.025 -0.036 -0.02 ]\n",
        " [ 0.016  0.069  1.068 -0.01   0.1   -0.009 -0.033]\n",
        " [ 0.028  0.005 -0.01   1.058  0.052  0.093  0.027]\n",
        " [-0.093  0.025  0.1    0.052  1.253  0.054  0.013]\n",
        " [-0.037 -0.036 -0.009  0.093  0.054  1.063  0.025]\n",
        " [-0.004 -0.02  -0.033  0.027  0.013  0.025  0.954]]\n",
        " Ctheo - Cexp : 2.479\n",
        " Ctheo - C_GL : 2.791\n",
        " Ctheo - C_LW : 2.977\n"
       ]
      }
     ],
     "prompt_number": 14,
     "trusted": true
    },
    {
     "cell_type": "code",
     "collapsed": false,
     "input": [],
     "language": "python",
     "metadata": {},
     "outputs": [],
     "prompt_number": 14,
     "trusted": true
    },
    {
     "cell_type": "markdown",
     "metadata": {},
     "source": []
    },
    {
     "cell_type": "heading",
     "level": 2,
     "metadata": {},
     "source": [
      "Trying out other things : not relevant today"
     ]
    },
    {
     "cell_type": "heading",
     "level": 4,
     "metadata": {},
     "source": [
      "Simulate a sparse precision matrix.  Conclusion: if N>=50, it becomes hard to fin tril matrices that are not rank deficient"
     ]
    },
    {
     "cell_type": "code",
     "collapsed": false,
     "input": [
      "def iround(x):\n",
      "    \"\"\"iround(number) -> integer\n",
      "    Round a number to the nearest integer.\"\"\"\n",
      "    y = round(x) - .5\n",
      "    return int(y) + (y > 0)\n"
     ],
     "language": "python",
     "metadata": {},
     "outputs": [],
     "prompt_number": 17,
     "trusted": true
    },
    {
     "cell_type": "code",
     "collapsed": false,
     "input": [
      "# create a covariance matrix of N nodes with T time values (repetitions) and sparsity of \n",
      "# precision matrix is L% \n",
      "\n",
      "\n",
      "def sim_sqrtP(N, L):\n",
      "    \"\"\"\n",
      "    L : put L% zeros in the sqrtP matrix\n",
      "    \"\"\"\n",
      "    \n",
      "    def arr_entries(n,norm_nbentries=N):\n",
      "        return np.abs(np.random.randn(n))*norm_nbentries\n",
      "    \n",
      "    # define the inverse square root matrix\n",
      "    # strict lower\n",
      "\n",
      "    Z = np.zeros((N-1,N-1))\n",
      "    tri_indices = np.tril_indices_from(Z)\n",
      "    P = np.zeros((N,N))\n",
      "\n",
      "    n_tri = tri_indices[0].shape[0]\n",
      "    try:\n",
      "        assert int((N)*(N-1)/2) == n_tri\n",
      "    except:\n",
      "        print(\"Aie : {} differ from {}\".format(int((N)*(N-1)/2), n_tri))\n",
      "            \n",
      "    n_zeros = iround(n_tri*L)\n",
      "    z = arr_entries(n_tri)\n",
      "    z[:n_zeros] = 0\n",
      "    z = np.random.permutation(z)\n",
      "    \n",
      "    P[(tri_indices[0]+1, tri_indices[1])] = z\n",
      "    # fill the diagonal\n",
      "    P[(np.arange(N),np.arange(N))] = arr_entries(N)\n",
      "    \n",
      "    rkP = np.linalg.matrix_rank(P)\n",
      "    if rkP < N:\n",
      "        print(\"rank deficient {}\".format(rkP))\n",
      "        return None\n",
      "    \n",
      "    return P\n"
     ],
     "language": "python",
     "metadata": {},
     "outputs": [],
     "prompt_number": 15,
     "trusted": true
    },
    {
     "cell_type": "code",
     "collapsed": false,
     "input": [
      "N = 6\n",
      "Z = np.zeros((N,N))\n",
      "sqrtP = sim_sqrtP(7, .5)\n",
      "np.set_printoptions(precision=1)\n",
      "print('{}\\n'.format(sqrtP))\n",
      "Prec = sqrtP.dot(sqrtP.T)\n",
      "print(Prec,\"\\n\")\n",
      "print(lin.inv(Prec))"
     ],
     "language": "python",
     "metadata": {},
     "outputs": [
      {
       "output_type": "stream",
       "stream": "stdout",
       "text": [
        "[[  0.8   0.    0.    0.    0.    0.    0. ]\n",
        " [  3.3   1.2   0.    0.    0.    0.    0. ]\n",
        " [  0.    0.    4.6   0.    0.    0.    0. ]\n",
        " [  4.8   0.    7.5   2.4   0.    0.    0. ]\n",
        " [  0.    9.3   0.    0.    1.1   0.    0. ]\n",
        " [  0.    8.1   9.3   0.    0.    0.3   0. ]\n",
        " [  0.   11.3   0.    5.1   5.1   9.9   3.3]]\n",
        "\n",
        "[[   0.6    2.5    0.     3.7    0.     0.     0. ]\n",
        " [   2.5   12.2    0.    15.9   11.2    9.7   13.6]\n",
        " [   0.     0.    20.9   34.2    0.    42.7    0. ]\n",
        " [   3.7   15.9   34.2   85.3    0.    70.    12.3]\n",
        " [   0.    11.2    0.     0.    88.1   75.6  111.1]\n",
        " [   0.     9.7   42.7   70.    75.6  153.1   95. ]\n",
        " [   0.    13.6    0.    12.3  111.1   95.   287.8]] \n",
        "\n",
        "[[  8.9e+04  -2.1e+04  -5.9e+03   1.8e+02   4.1e+02   2.8e+03  -8.5e+01]\n",
        " [ -2.1e+04   4.9e+03   1.4e+03  -4.2e+01  -9.6e+01  -6.5e+02   2.0e+01]\n",
        " [ -5.9e+03   1.4e+03   4.0e+02  -1.2e+01  -2.6e+01  -1.8e+02   5.7e+00]\n",
        " [  1.8e+02  -4.2e+01  -1.2e+01   5.6e-01   8.4e-01   5.5e+00  -1.9e-01]\n",
        " [  4.1e+02  -9.6e+01  -2.6e+01   8.4e-01   2.6e+00   1.2e+01  -4.0e-01]\n",
        " [  2.8e+03  -6.5e+02  -1.8e+02   5.5e+00   1.2e+01   8.6e+01  -2.6e+00]\n",
        " [ -8.5e+01   2.0e+01   5.7e+00  -1.9e-01  -4.0e-01  -2.6e+00   9.0e-02]]\n"
       ]
      }
     ],
     "prompt_number": 18,
     "trusted": true
    },
    {
     "cell_type": "code",
     "collapsed": false,
     "input": [
      "N = 100\n",
      "M = np.tril(np.abs(np.random.randn(N,N)))\n",
      "np.linalg.matrix_rank(M)\n",
      "(u, s, vt) = lin.svd(M, full_matrices=False)\n",
      "plt.plot(s[N-5:])"
     ],
     "language": "python",
     "metadata": {},
     "outputs": [
      {
       "metadata": {},
       "output_type": "pyout",
       "prompt_number": 19,
       "text": [
        "[<matplotlib.lines.Line2D at 0x5077310>]"
       ]
      },
      {
       "metadata": {},
       "output_type": "display_data",
       "png": "[encoded data removed]",
       "text": [
        "<matplotlib.figure.Figure at 0x5041690>"
       ]
      }
     ],
     "prompt_number": 19,
     "trusted": true
    },
    {
     "cell_type": "code",
     "collapsed": false,
     "input": [
      "\n",
      "print(s[N-5:])\n",
      "plt.plot(u[1:15,N-1])"
     ],
     "language": "python",
     "metadata": {},
     "outputs": [
      {
       "output_type": "stream",
       "stream": "stdout",
       "text": [
        "[  1.1e-04   4.3e-05   3.5e-10   2.3e-14   3.8e-15]\n"
       ]
      },
      {
       "metadata": {},
       "output_type": "pyout",
       "prompt_number": 20,
       "text": [
        "[<matplotlib.lines.Line2D at 0x50c0310>]"
       ]
      },
      {
       "metadata": {},
       "output_type": "display_data",
       "png": "[encoded data removed]",
       "text": [
        "<matplotlib.figure.Figure at 0x507d710>"
       ]
      }
     ],
     "prompt_number": 20,
     "trusted": true
    },
    {
     "cell_type": "code",
     "collapsed": false,
     "input": [
      "nulld = u[:,-1]\n",
      "print(nulld[:10])\n",
      "print(M.T.dot(nulld).T)"
     ],
     "language": "python",
     "metadata": {},
     "outputs": [
      {
       "output_type": "stream",
       "stream": "stdout",
       "text": [
        "[-0.7  0.4 -0.5  0.2  0.  -0.1 -0.   0.1 -0.  -0. ]\n",
        "[  4.0e-16  -2.3e-15  -1.7e-15   1.5e-15  -3.9e-15  -1.1e-15   7.7e-16\n",
        "  -2.2e-15  -2.6e-16  -2.0e-15  -3.7e-16   3.6e-15  -3.0e-16  -2.3e-15\n",
        "  -2.3e-15   1.5e-15   1.7e-15   1.4e-15  -2.8e-17  -1.2e-16  -1.6e-15\n",
        "   4.9e-16  -3.0e-16   7.2e-16  -1.9e-15   3.6e-17  -6.4e-16  -2.3e-16\n",
        "  -6.7e-16  -2.2e-15  -8.9e-16  -1.4e-15   1.4e-15  -1.2e-15   1.5e-15\n",
        "   2.6e-17   5.2e-16  -6.7e-16   6.6e-16   4.5e-16   9.9e-16   9.0e-17\n",
        "   4.9e-16   8.1e-16  -1.1e-15   2.0e-16  -2.9e-16  -6.3e-17   9.4e-17\n",
        "  -1.0e-15  -3.7e-16   1.9e-16   8.2e-16   4.5e-16   4.7e-16   8.9e-16\n",
        "   2.1e-16   4.5e-16   3.1e-16  -1.0e-16   3.3e-16   2.1e-16   1.9e-16\n",
        "  -1.4e-16   6.5e-16   1.1e-15   1.0e-15   9.4e-16   5.1e-16   1.5e-15\n",
        "   8.1e-16   8.6e-16   9.7e-16   6.9e-16   5.3e-16   9.6e-16   1.0e-15\n",
        "   9.3e-16   1.1e-15   1.1e-15   1.4e-16   1.0e-16   6.8e-16   2.6e-16\n",
        "   1.0e-15   1.1e-15   1.3e-15   3.2e-16   6.5e-16   9.6e-16   1.4e-15\n",
        "   2.1e-16   1.4e-16   2.8e-16   3.9e-16   6.4e-16   3.2e-16  -3.9e-18\n",
        "   1.8e-16   1.9e-17]\n"
       ]
      }
     ],
     "prompt_number": 21,
     "trusted": true
    },
    {
     "cell_type": "code",
     "collapsed": false,
     "input": [],
     "language": "python",
     "metadata": {},
     "outputs": [],
     "prompt_number": 21,
     "trusted": true
    },
    {
     "cell_type": "code",
     "collapsed": false,
     "input": [],
     "language": "python",
     "metadata": {},
     "outputs": [],
     "trusted": true
    }
   ],
   "metadata": {}
  }
 ]
}